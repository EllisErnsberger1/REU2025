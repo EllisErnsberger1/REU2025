{
 "cells": [
  {
   "cell_type": "markdown",
   "id": "db220659-d488-431d-91d9-825f6319612a",
   "metadata": {},
   "source": [
    "# First 30 mins for EUI 174, IRIS 1400, and SDO Instruments/channels"
   ]
  },
  {
   "cell_type": "code",
   "execution_count": 3,
   "id": "fe948472-4b42-4606-8d79-360f118f869d",
   "metadata": {},
   "outputs": [
    {
     "name": "stderr",
     "output_type": "stream",
     "text": [
      "/opt/anaconda3/envs/REU2025_py39/lib/python3.10/site-packages/requests/__init__.py:86: RequestsDependencyWarning: Unable to find acceptable character detection dependency (chardet or charset_normalizer).\n",
      "  warnings.warn(\n"
     ]
    }
   ],
   "source": [
    "import matplotlib.pyplot as plt\n",
    "from matplotlib.animation import FuncAnimation\n",
    "import numpy as np\n",
    "\n",
    "import astropy\n",
    "from astropy.visualization import ImageNormalize, SqrtStretch, PowerStretch\n",
    "from astropy.io import fits\n",
    "import astropy.units as u\n",
    "from astropy.coordinates import SkyCoord\n",
    "\n",
    "import sunpy.map\n",
    "import sunpy_soar\n",
    "from sunpy.net import Fido, attrs as a\n",
    "from sunpy.map import make_fitswcs_header\n",
    "\n",
    "import skimage\n",
    "import scipy\n",
    "\n",
    "import glob\n",
    "import os\n",
    "import shutil\n",
    "from copy import deepcopy\n",
    "\n",
    "from tqdm import tqdm\n",
    "\n",
    "from scipy.signal import savgol_filter\n",
    "\n",
    "from matplotlib.animation import PillowWriter\n",
    "\n",
    "from sunpy.net.jsoc import JSOCClient\n",
    "\n",
    "plt.rcParams[\"figure.figsize\"] = (10, 10)"
   ]
  },
  {
   "cell_type": "markdown",
   "id": "c28d34ff-acd9-41de-b9f4-2cdaa95aa6cd",
   "metadata": {},
   "source": [
    "### Get EUI data"
   ]
  },
  {
   "cell_type": "code",
   "execution_count": 4,
   "id": "700732e2-7656-4760-911d-eaa6af157387",
   "metadata": {},
   "outputs": [
    {
     "name": "stdout",
     "output_type": "stream",
     "text": [
      "Results from 1 Provider:\n",
      "\n",
      "360 Results from the SOARClient:\n",
      "\n",
      "Instrument     Data product    Level ... Detector Wavelength\n",
      "                                     ...                    \n",
      "---------- ------------------- ----- ... -------- ----------\n",
      "       EUI eui-hrieuvopn-image    L2 ...  HRI_EUV      174.0\n",
      "       EUI eui-hrieuvopn-image    L2 ...  HRI_EUV      174.0\n",
      "       EUI eui-hrieuvopn-image    L2 ...  HRI_EUV      174.0\n",
      "       EUI eui-hrieuvopn-image    L2 ...  HRI_EUV      174.0\n",
      "       EUI eui-hrieuvopn-image    L2 ...  HRI_EUV      174.0\n",
      "       EUI eui-hrieuvopn-image    L2 ...  HRI_EUV      174.0\n",
      "       EUI eui-hrieuvopn-image    L2 ...  HRI_EUV      174.0\n",
      "       EUI eui-hrieuvopn-image    L2 ...  HRI_EUV      174.0\n",
      "       EUI eui-hrieuvopn-image    L2 ...  HRI_EUV      174.0\n",
      "       ...                 ...   ... ...      ...        ...\n",
      "       EUI eui-hrieuvopn-image    L2 ...  HRI_EUV      174.0\n",
      "       EUI eui-hrieuvopn-image    L2 ...  HRI_EUV      174.0\n",
      "       EUI eui-hrieuvopn-image    L2 ...  HRI_EUV      174.0\n",
      "       EUI eui-hrieuvopn-image    L2 ...  HRI_EUV      174.0\n",
      "       EUI eui-hrieuvopn-image    L2 ...  HRI_EUV      174.0\n",
      "       EUI eui-hrieuvopn-image    L2 ...  HRI_EUV      174.0\n",
      "       EUI eui-hrieuvopn-image    L2 ...  HRI_EUV      174.0\n",
      "       EUI eui-hrieuvopn-image    L2 ...  HRI_EUV      174.0\n",
      "       EUI eui-hrieuvopn-image    L2 ...  HRI_EUV      174.0\n",
      "       EUI eui-hrieuvopn-image    L2 ...  HRI_EUV      174.0\n",
      "Length = 360 rows\n",
      "\n",
      "\n"
     ]
    }
   ],
   "source": [
    "instrument = a.Instrument('EUI')\n",
    "\n",
    "start_time_eui = '2022-03-08 00:43:00'\n",
    "end_time_eui = '2022-03-08 01:13:00'\n",
    "\n",
    "time = a.Time(start_time_eui, end_time_eui)\n",
    "\n",
    "level = a.Level(2)\n",
    "\n",
    "product = a.soar.Product('eui-hrieuvopn-image')\n",
    "\n",
    "eui_result = Fido.search(instrument & time & level & product)\n",
    "\n",
    "print(eui_result)"
   ]
  },
  {
   "cell_type": "code",
   "execution_count": 6,
   "id": "b3d75451-0184-4b02-9576-8e0cc867f5bd",
   "metadata": {
    "collapsed": true,
    "jupyter": {
     "outputs_hidden": true
    },
    "scrolled": true
   },
   "outputs": [
    {
     "data": {
      "application/vnd.jupyter.widget-view+json": {
       "model_id": "c3ff054004614788b3815181ef4c62a3",
       "version_major": 2,
       "version_minor": 0
      },
      "text/plain": [
       "Files Downloaded:   0%|          | 0/360 [00:00<?, ?file/s]"
      ]
     },
     "metadata": {},
     "output_type": "display_data"
    },
    {
     "data": {
      "application/vnd.jupyter.widget-view+json": {
       "model_id": "37de6f7a20f44176b142e8186c1fef5c",
       "version_major": 2,
       "version_minor": 0
      },
      "text/plain": [
       "solo_L2_eui-hrieuvopn-image_20220308T004310224_V02.fits:   0%|          | 0.00/6.57M [00:00<?, ?B/s]"
      ]
     },
     "metadata": {},
     "output_type": "display_data"
    },
    {
     "data": {
      "application/vnd.jupyter.widget-view+json": {
       "model_id": "4fc56845049142de9d7bf1c0f0a4ebe6",
       "version_major": 2,
       "version_minor": 0
      },
      "text/plain": [
       "solo_L2_eui-hrieuvopn-image_20220308T004300231_V02.fits:   0%|          | 0.00/6.57M [00:00<?, ?B/s]"
      ]
     },
     "metadata": {},
     "output_type": "display_data"
    },
    {
     "data": {
      "application/vnd.jupyter.widget-view+json": {
       "model_id": "6b76db1e158e40558d788402dd1a1a7b",
       "version_major": 2,
       "version_minor": 0
      },
      "text/plain": [
       "solo_L2_eui-hrieuvopn-image_20220308T004320265_V02.fits:   0%|          | 0.00/6.56M [00:00<?, ?B/s]"
      ]
     },
     "metadata": {},
     "output_type": "display_data"
    },
    {
     "data": {
      "application/vnd.jupyter.widget-view+json": {
       "model_id": "453d323357d64058b7dd1f1b332910cc",
       "version_major": 2,
       "version_minor": 0
      },
      "text/plain": [
       "solo_L2_eui-hrieuvopn-image_20220308T004315239_V02.fits:   0%|          | 0.00/6.57M [00:00<?, ?B/s]"
      ]
     },
     "metadata": {},
     "output_type": "display_data"
    },
    {
     "data": {
      "application/vnd.jupyter.widget-view+json": {
       "model_id": "fd26c649c0e74f4ba4922f55bdab8c51",
       "version_major": 2,
       "version_minor": 0
      },
      "text/plain": [
       "solo_L2_eui-hrieuvopn-image_20220308T004305292_V02.fits:   0%|          | 0.00/6.58M [00:00<?, ?B/s]"
      ]
     },
     "metadata": {},
     "output_type": "display_data"
    },
    {
     "data": {
      "application/vnd.jupyter.widget-view+json": {
       "model_id": "c5cd781827e8448f83f61e3145babe37",
       "version_major": 2,
       "version_minor": 0
      },
      "text/plain": [
       "solo_L2_eui-hrieuvopn-image_20220308T004330224_V02.fits:   0%|          | 0.00/6.57M [00:00<?, ?B/s]"
      ]
     },
     "metadata": {},
     "output_type": "display_data"
    },
    {
     "data": {
      "application/vnd.jupyter.widget-view+json": {
       "model_id": "29f43cfd98f74a968d73fbebde768b4e",
       "version_major": 2,
       "version_minor": 0
      },
      "text/plain": [
       "solo_L2_eui-hrieuvopn-image_20220308T004325225_V02.fits:   0%|          | 0.00/6.56M [00:00<?, ?B/s]"
      ]
     },
     "metadata": {},
     "output_type": "display_data"
    },
    {
     "data": {
      "application/vnd.jupyter.widget-view+json": {
       "model_id": "a97a6866676f4e40aba92066be3bb784",
       "version_major": 2,
       "version_minor": 0
      },
      "text/plain": [
       "solo_L2_eui-hrieuvopn-image_20220308T004340225_V02.fits:   0%|          | 0.00/6.57M [00:00<?, ?B/s]"
      ]
     },
     "metadata": {},
     "output_type": "display_data"
    },
    {
     "data": {
      "application/vnd.jupyter.widget-view+json": {
       "model_id": "cfb9935217aa4c31b8280c22b342aa13",
       "version_major": 2,
       "version_minor": 0
      },
      "text/plain": [
       "solo_L2_eui-hrieuvopn-image_20220308T004345225_V02.fits:   0%|          | 0.00/6.58M [00:00<?, ?B/s]"
      ]
     },
     "metadata": {},
     "output_type": "display_data"
    },
    {
     "data": {
      "application/vnd.jupyter.widget-view+json": {
       "model_id": "b382daf0197440a9b225d52acdbc680c",
       "version_major": 2,
       "version_minor": 0
      },
      "text/plain": [
       "solo_L2_eui-hrieuvopn-image_20220308T004335238_V02.fits:   0%|          | 0.00/6.58M [00:00<?, ?B/s]"
      ]
     },
     "metadata": {},
     "output_type": "display_data"
    },
    {
     "data": {
      "application/vnd.jupyter.widget-view+json": {
       "model_id": "fae15ddaf3104a80a85df1d73e2d1517",
       "version_major": 2,
       "version_minor": 0
      },
      "text/plain": [
       "solo_L2_eui-hrieuvopn-image_20220308T004350225_V02.fits:   0%|          | 0.00/6.57M [00:00<?, ?B/s]"
      ]
     },
     "metadata": {},
     "output_type": "display_data"
    },
    {
     "data": {
      "application/vnd.jupyter.widget-view+json": {
       "model_id": "0829555298664311a566a8b3c1e9d54c",
       "version_major": 2,
       "version_minor": 0
      },
      "text/plain": [
       "solo_L2_eui-hrieuvopn-image_20220308T004400230_V02.fits:   0%|          | 0.00/6.58M [00:00<?, ?B/s]"
      ]
     },
     "metadata": {},
     "output_type": "display_data"
    },
    {
     "data": {
      "application/vnd.jupyter.widget-view+json": {
       "model_id": "9762f9b1bb6244aa9d1fe013aa99ddcf",
       "version_major": 2,
       "version_minor": 0
      },
      "text/plain": [
       "solo_L2_eui-hrieuvopn-image_20220308T004355224_V02.fits:   0%|          | 0.00/6.56M [00:00<?, ?B/s]"
      ]
     },
     "metadata": {},
     "output_type": "display_data"
    },
    {
     "data": {
      "application/vnd.jupyter.widget-view+json": {
       "model_id": "10c54da4417f435c881715bcd9e4b6ef",
       "version_major": 2,
       "version_minor": 0
      },
      "text/plain": [
       "solo_L2_eui-hrieuvopn-image_20220308T004405224_V02.fits:   0%|          | 0.00/6.58M [00:00<?, ?B/s]"
      ]
     },
     "metadata": {},
     "output_type": "display_data"
    },
    {
     "data": {
      "application/vnd.jupyter.widget-view+json": {
       "model_id": "56ed2449f9954e1eb3944ee41a7e68e2",
       "version_major": 2,
       "version_minor": 0
      },
      "text/plain": [
       "solo_L2_eui-hrieuvopn-image_20220308T004410226_V02.fits:   0%|          | 0.00/6.56M [00:00<?, ?B/s]"
      ]
     },
     "metadata": {},
     "output_type": "display_data"
    },
    {
     "data": {
      "application/vnd.jupyter.widget-view+json": {
       "model_id": "d0d13887e5e441c7ba4f097dfcbc2746",
       "version_major": 2,
       "version_minor": 0
      },
      "text/plain": [
       "solo_L2_eui-hrieuvopn-image_20220308T004415225_V02.fits:   0%|          | 0.00/6.57M [00:00<?, ?B/s]"
      ]
     },
     "metadata": {},
     "output_type": "display_data"
    },
    {
     "data": {
      "application/vnd.jupyter.widget-view+json": {
       "model_id": "cac92401dfe449ee9cabb0c59eb96995",
       "version_major": 2,
       "version_minor": 0
      },
      "text/plain": [
       "solo_L2_eui-hrieuvopn-image_20220308T004420225_V02.fits:   0%|          | 0.00/6.57M [00:00<?, ?B/s]"
      ]
     },
     "metadata": {},
     "output_type": "display_data"
    },
    {
     "data": {
      "application/vnd.jupyter.widget-view+json": {
       "model_id": "1fa00ebd48e247deb2dde5850dae1744",
       "version_major": 2,
       "version_minor": 0
      },
      "text/plain": [
       "solo_L2_eui-hrieuvopn-image_20220308T004425224_V02.fits:   0%|          | 0.00/6.55M [00:00<?, ?B/s]"
      ]
     },
     "metadata": {},
     "output_type": "display_data"
    },
    {
     "data": {
      "application/vnd.jupyter.widget-view+json": {
       "model_id": "a618265a5a904ba1864a1ec81c97b2fe",
       "version_major": 2,
       "version_minor": 0
      },
      "text/plain": [
       "solo_L2_eui-hrieuvopn-image_20220308T004430225_V02.fits:   0%|          | 0.00/6.56M [00:00<?, ?B/s]"
      ]
     },
     "metadata": {},
     "output_type": "display_data"
    },
    {
     "data": {
      "application/vnd.jupyter.widget-view+json": {
       "model_id": "b0a8aa7b289444db9b505a9bc8f61221",
       "version_major": 2,
       "version_minor": 0
      },
      "text/plain": [
       "solo_L2_eui-hrieuvopn-image_20220308T004435225_V02.fits:   0%|          | 0.00/6.58M [00:00<?, ?B/s]"
      ]
     },
     "metadata": {},
     "output_type": "display_data"
    },
    {
     "data": {
      "application/vnd.jupyter.widget-view+json": {
       "model_id": "2c83fb11b67c41d5ba3166cc9fc526ee",
       "version_major": 2,
       "version_minor": 0
      },
      "text/plain": [
       "solo_L2_eui-hrieuvopn-image_20220308T004440224_V02.fits:   0%|          | 0.00/6.57M [00:00<?, ?B/s]"
      ]
     },
     "metadata": {},
     "output_type": "display_data"
    },
    {
     "data": {
      "application/vnd.jupyter.widget-view+json": {
       "model_id": "5db2ecb4f7b645fcb898495ab94f9a22",
       "version_major": 2,
       "version_minor": 0
      },
      "text/plain": [
       "solo_L2_eui-hrieuvopn-image_20220308T004445225_V02.fits:   0%|          | 0.00/6.58M [00:00<?, ?B/s]"
      ]
     },
     "metadata": {},
     "output_type": "display_data"
    },
    {
     "data": {
      "application/vnd.jupyter.widget-view+json": {
       "model_id": "c1afe315d4d44e389fefa177403c8854",
       "version_major": 2,
       "version_minor": 0
      },
      "text/plain": [
       "solo_L2_eui-hrieuvopn-image_20220308T004450224_V02.fits:   0%|          | 0.00/6.58M [00:00<?, ?B/s]"
      ]
     },
     "metadata": {},
     "output_type": "display_data"
    },
    {
     "data": {
      "application/vnd.jupyter.widget-view+json": {
       "model_id": "030a6fb7a9a74263afb6a389a615d8aa",
       "version_major": 2,
       "version_minor": 0
      },
      "text/plain": [
       "solo_L2_eui-hrieuvopn-image_20220308T004455225_V02.fits:   0%|          | 0.00/6.58M [00:00<?, ?B/s]"
      ]
     },
     "metadata": {},
     "output_type": "display_data"
    },
    {
     "data": {
      "application/vnd.jupyter.widget-view+json": {
       "model_id": "dc93a51cb1aa43689899e0470b728051",
       "version_major": 2,
       "version_minor": 0
      },
      "text/plain": [
       "solo_L2_eui-hrieuvopn-image_20220308T004500235_V02.fits:   0%|          | 0.00/6.57M [00:00<?, ?B/s]"
      ]
     },
     "metadata": {},
     "output_type": "display_data"
    },
    {
     "data": {
      "application/vnd.jupyter.widget-view+json": {
       "model_id": "e59e07c586ac4ba48a2765c276cac7a0",
       "version_major": 2,
       "version_minor": 0
      },
      "text/plain": [
       "solo_L2_eui-hrieuvopn-image_20220308T004505225_V02.fits:   0%|          | 0.00/6.57M [00:00<?, ?B/s]"
      ]
     },
     "metadata": {},
     "output_type": "display_data"
    },
    {
     "data": {
      "application/vnd.jupyter.widget-view+json": {
       "model_id": "b64d48f1ebf84f599840d4e7fdadb943",
       "version_major": 2,
       "version_minor": 0
      },
      "text/plain": [
       "solo_L2_eui-hrieuvopn-image_20220308T004510225_V02.fits:   0%|          | 0.00/6.56M [00:00<?, ?B/s]"
      ]
     },
     "metadata": {},
     "output_type": "display_data"
    },
    {
     "data": {
      "application/vnd.jupyter.widget-view+json": {
       "model_id": "f4faf951b936412eb13c0a827a13e3f2",
       "version_major": 2,
       "version_minor": 0
      },
      "text/plain": [
       "solo_L2_eui-hrieuvopn-image_20220308T004515227_V02.fits:   0%|          | 0.00/6.57M [00:00<?, ?B/s]"
      ]
     },
     "metadata": {},
     "output_type": "display_data"
    },
    {
     "data": {
      "application/vnd.jupyter.widget-view+json": {
       "model_id": "5ff07bcfb1cd48bfb800839b3e9f9b29",
       "version_major": 2,
       "version_minor": 0
      },
      "text/plain": [
       "solo_L2_eui-hrieuvopn-image_20220308T004520225_V02.fits:   0%|          | 0.00/6.56M [00:00<?, ?B/s]"
      ]
     },
     "metadata": {},
     "output_type": "display_data"
    },
    {
     "data": {
      "application/vnd.jupyter.widget-view+json": {
       "model_id": "2efdb720ad0a4125a47940e9ecdf963a",
       "version_major": 2,
       "version_minor": 0
      },
      "text/plain": [
       "solo_L2_eui-hrieuvopn-image_20220308T004525224_V02.fits:   0%|          | 0.00/6.57M [00:00<?, ?B/s]"
      ]
     },
     "metadata": {},
     "output_type": "display_data"
    },
    {
     "data": {
      "application/vnd.jupyter.widget-view+json": {
       "model_id": "3a0408b1a2e740c1a7beade81a0f38c2",
       "version_major": 2,
       "version_minor": 0
      },
      "text/plain": [
       "solo_L2_eui-hrieuvopn-image_20220308T004530225_V02.fits:   0%|          | 0.00/6.57M [00:00<?, ?B/s]"
      ]
     },
     "metadata": {},
     "output_type": "display_data"
    },
    {
     "data": {
      "application/vnd.jupyter.widget-view+json": {
       "model_id": "02beb8921d6a4160a90e47c835028680",
       "version_major": 2,
       "version_minor": 0
      },
      "text/plain": [
       "solo_L2_eui-hrieuvopn-image_20220308T004540435_V02.fits:   0%|          | 0.00/6.57M [00:00<?, ?B/s]"
      ]
     },
     "metadata": {},
     "output_type": "display_data"
    },
    {
     "data": {
      "application/vnd.jupyter.widget-view+json": {
       "model_id": "053e528883c746a5a12646016710eb62",
       "version_major": 2,
       "version_minor": 0
      },
      "text/plain": [
       "solo_L2_eui-hrieuvopn-image_20220308T004545225_V02.fits:   0%|          | 0.00/6.58M [00:00<?, ?B/s]"
      ]
     },
     "metadata": {},
     "output_type": "display_data"
    },
    {
     "data": {
      "application/vnd.jupyter.widget-view+json": {
       "model_id": "9988da4955a64b21b8af41a6659a8a48",
       "version_major": 2,
       "version_minor": 0
      },
      "text/plain": [
       "solo_L2_eui-hrieuvopn-image_20220308T004535241_V02.fits:   0%|          | 0.00/6.57M [00:00<?, ?B/s]"
      ]
     },
     "metadata": {},
     "output_type": "display_data"
    },
    {
     "data": {
      "application/vnd.jupyter.widget-view+json": {
       "model_id": "46cfbf00329e41f28882866815d6e98c",
       "version_major": 2,
       "version_minor": 0
      },
      "text/plain": [
       "solo_L2_eui-hrieuvopn-image_20220308T004550225_V02.fits:   0%|          | 0.00/6.57M [00:00<?, ?B/s]"
      ]
     },
     "metadata": {},
     "output_type": "display_data"
    },
    {
     "data": {
      "application/vnd.jupyter.widget-view+json": {
       "model_id": "4bddcacf06164b14bfc1f063fe69812f",
       "version_major": 2,
       "version_minor": 0
      },
      "text/plain": [
       "solo_L2_eui-hrieuvopn-image_20220308T004605225_V02.fits:   0%|          | 0.00/6.56M [00:00<?, ?B/s]"
      ]
     },
     "metadata": {},
     "output_type": "display_data"
    },
    {
     "data": {
      "application/vnd.jupyter.widget-view+json": {
       "model_id": "31e92a972ea345a9b41fa4fcbb98d053",
       "version_major": 2,
       "version_minor": 0
      },
      "text/plain": [
       "solo_L2_eui-hrieuvopn-image_20220308T004600230_V02.fits:   0%|          | 0.00/6.56M [00:00<?, ?B/s]"
      ]
     },
     "metadata": {},
     "output_type": "display_data"
    },
    {
     "data": {
      "application/vnd.jupyter.widget-view+json": {
       "model_id": "87fed4b23b4549dd8b27a1e758562882",
       "version_major": 2,
       "version_minor": 0
      },
      "text/plain": [
       "solo_L2_eui-hrieuvopn-image_20220308T004555237_V02.fits:   0%|          | 0.00/6.57M [00:00<?, ?B/s]"
      ]
     },
     "metadata": {},
     "output_type": "display_data"
    },
    {
     "data": {
      "application/vnd.jupyter.widget-view+json": {
       "model_id": "4be56392bb7245eca5162344ec025f19",
       "version_major": 2,
       "version_minor": 0
      },
      "text/plain": [
       "solo_L2_eui-hrieuvopn-image_20220308T004610225_V02.fits:   0%|          | 0.00/6.56M [00:00<?, ?B/s]"
      ]
     },
     "metadata": {},
     "output_type": "display_data"
    },
    {
     "data": {
      "application/vnd.jupyter.widget-view+json": {
       "model_id": "8586218f1f68420ca763a95914fa9c80",
       "version_major": 2,
       "version_minor": 0
      },
      "text/plain": [
       "solo_L2_eui-hrieuvopn-image_20220308T004615246_V02.fits:   0%|          | 0.00/6.57M [00:00<?, ?B/s]"
      ]
     },
     "metadata": {},
     "output_type": "display_data"
    },
    {
     "data": {
      "application/vnd.jupyter.widget-view+json": {
       "model_id": "f622ffd8064b45e2ae2a6bddc3c2e220",
       "version_major": 2,
       "version_minor": 0
      },
      "text/plain": [
       "solo_L2_eui-hrieuvopn-image_20220308T004620242_V02.fits:   0%|          | 0.00/6.56M [00:00<?, ?B/s]"
      ]
     },
     "metadata": {},
     "output_type": "display_data"
    },
    {
     "data": {
      "application/vnd.jupyter.widget-view+json": {
       "model_id": "d010577a691b4bc69002eeeb6de24e1e",
       "version_major": 2,
       "version_minor": 0
      },
      "text/plain": [
       "solo_L2_eui-hrieuvopn-image_20220308T004625225_V02.fits:   0%|          | 0.00/6.56M [00:00<?, ?B/s]"
      ]
     },
     "metadata": {},
     "output_type": "display_data"
    },
    {
     "data": {
      "application/vnd.jupyter.widget-view+json": {
       "model_id": "41060bc4d6434004ae77e7fd623e8fa3",
       "version_major": 2,
       "version_minor": 0
      },
      "text/plain": [
       "solo_L2_eui-hrieuvopn-image_20220308T004635225_V02.fits:   0%|          | 0.00/6.55M [00:00<?, ?B/s]"
      ]
     },
     "metadata": {},
     "output_type": "display_data"
    },
    {
     "data": {
      "application/vnd.jupyter.widget-view+json": {
       "model_id": "6faadf919a174f5b915fdca3d6001d67",
       "version_major": 2,
       "version_minor": 0
      },
      "text/plain": [
       "solo_L2_eui-hrieuvopn-image_20220308T004640225_V02.fits:   0%|          | 0.00/6.56M [00:00<?, ?B/s]"
      ]
     },
     "metadata": {},
     "output_type": "display_data"
    },
    {
     "data": {
      "application/vnd.jupyter.widget-view+json": {
       "model_id": "c5425a276add4191bc77069d94c88cbf",
       "version_major": 2,
       "version_minor": 0
      },
      "text/plain": [
       "solo_L2_eui-hrieuvopn-image_20220308T004630224_V02.fits:   0%|          | 0.00/6.57M [00:00<?, ?B/s]"
      ]
     },
     "metadata": {},
     "output_type": "display_data"
    },
    {
     "data": {
      "application/vnd.jupyter.widget-view+json": {
       "model_id": "fe220d430fad42fe804617f028d88d86",
       "version_major": 2,
       "version_minor": 0
      },
      "text/plain": [
       "solo_L2_eui-hrieuvopn-image_20220308T004650225_V02.fits:   0%|          | 0.00/6.58M [00:00<?, ?B/s]"
      ]
     },
     "metadata": {},
     "output_type": "display_data"
    },
    {
     "data": {
      "application/vnd.jupyter.widget-view+json": {
       "model_id": "e4647c0572ba42b0a8c8b0c2000f04b1",
       "version_major": 2,
       "version_minor": 0
      },
      "text/plain": [
       "solo_L2_eui-hrieuvopn-image_20220308T004700231_V02.fits:   0%|          | 0.00/6.56M [00:00<?, ?B/s]"
      ]
     },
     "metadata": {},
     "output_type": "display_data"
    },
    {
     "data": {
      "application/vnd.jupyter.widget-view+json": {
       "model_id": "044f4e9d37df4fdcbf7704d1e8e06820",
       "version_major": 2,
       "version_minor": 0
      },
      "text/plain": [
       "solo_L2_eui-hrieuvopn-image_20220308T004655225_V02.fits:   0%|          | 0.00/6.57M [00:00<?, ?B/s]"
      ]
     },
     "metadata": {},
     "output_type": "display_data"
    },
    {
     "data": {
      "application/vnd.jupyter.widget-view+json": {
       "model_id": "fe1bc8ef33c749778005a28953f7bc10",
       "version_major": 2,
       "version_minor": 0
      },
      "text/plain": [
       "solo_L2_eui-hrieuvopn-image_20220308T004705225_V02.fits:   0%|          | 0.00/6.58M [00:00<?, ?B/s]"
      ]
     },
     "metadata": {},
     "output_type": "display_data"
    },
    {
     "data": {
      "application/vnd.jupyter.widget-view+json": {
       "model_id": "db51bd6941db4e49a7fb30825c173cb4",
       "version_major": 2,
       "version_minor": 0
      },
      "text/plain": [
       "solo_L2_eui-hrieuvopn-image_20220308T004645225_V02.fits:   0%|          | 0.00/6.55M [00:00<?, ?B/s]"
      ]
     },
     "metadata": {},
     "output_type": "display_data"
    },
    {
     "data": {
      "application/vnd.jupyter.widget-view+json": {
       "model_id": "f72f93df48e14af3aa0b25e5c549e2a4",
       "version_major": 2,
       "version_minor": 0
      },
      "text/plain": [
       "solo_L2_eui-hrieuvopn-image_20220308T004715225_V02.fits:   0%|          | 0.00/6.56M [00:00<?, ?B/s]"
      ]
     },
     "metadata": {},
     "output_type": "display_data"
    },
    {
     "data": {
      "application/vnd.jupyter.widget-view+json": {
       "model_id": "23de957c29ce4ee58ac469957cf0f6fa",
       "version_major": 2,
       "version_minor": 0
      },
      "text/plain": [
       "solo_L2_eui-hrieuvopn-image_20220308T004710230_V02.fits:   0%|          | 0.00/6.58M [00:00<?, ?B/s]"
      ]
     },
     "metadata": {},
     "output_type": "display_data"
    },
    {
     "data": {
      "application/vnd.jupyter.widget-view+json": {
       "model_id": "4456fdc5d16c44b5b350b5ff463d975e",
       "version_major": 2,
       "version_minor": 0
      },
      "text/plain": [
       "solo_L2_eui-hrieuvopn-image_20220308T004720225_V02.fits:   0%|          | 0.00/6.55M [00:00<?, ?B/s]"
      ]
     },
     "metadata": {},
     "output_type": "display_data"
    },
    {
     "data": {
      "application/vnd.jupyter.widget-view+json": {
       "model_id": "aff92796bc274f3581b80b5aabf742ca",
       "version_major": 2,
       "version_minor": 0
      },
      "text/plain": [
       "solo_L2_eui-hrieuvopn-image_20220308T004725258_V02.fits:   0%|          | 0.00/6.56M [00:00<?, ?B/s]"
      ]
     },
     "metadata": {},
     "output_type": "display_data"
    },
    {
     "data": {
      "application/vnd.jupyter.widget-view+json": {
       "model_id": "244fa370422d4ff69f48edcc7225e448",
       "version_major": 2,
       "version_minor": 0
      },
      "text/plain": [
       "solo_L2_eui-hrieuvopn-image_20220308T004730258_V02.fits:   0%|          | 0.00/6.57M [00:00<?, ?B/s]"
      ]
     },
     "metadata": {},
     "output_type": "display_data"
    },
    {
     "data": {
      "application/vnd.jupyter.widget-view+json": {
       "model_id": "86089e9ba2b6484fb1304cb8e684907f",
       "version_major": 2,
       "version_minor": 0
      },
      "text/plain": [
       "solo_L2_eui-hrieuvopn-image_20220308T004735224_V02.fits:   0%|          | 0.00/6.54M [00:00<?, ?B/s]"
      ]
     },
     "metadata": {},
     "output_type": "display_data"
    },
    {
     "data": {
      "application/vnd.jupyter.widget-view+json": {
       "model_id": "1f565e01f13d474eb9e4df68e89c83b1",
       "version_major": 2,
       "version_minor": 0
      },
      "text/plain": [
       "solo_L2_eui-hrieuvopn-image_20220308T004740262_V02.fits:   0%|          | 0.00/6.57M [00:00<?, ?B/s]"
      ]
     },
     "metadata": {},
     "output_type": "display_data"
    },
    {
     "data": {
      "application/vnd.jupyter.widget-view+json": {
       "model_id": "2b3eac070b6f4af896fc80022f186888",
       "version_major": 2,
       "version_minor": 0
      },
      "text/plain": [
       "solo_L2_eui-hrieuvopn-image_20220308T004745225_V02.fits:   0%|          | 0.00/6.56M [00:00<?, ?B/s]"
      ]
     },
     "metadata": {},
     "output_type": "display_data"
    },
    {
     "data": {
      "application/vnd.jupyter.widget-view+json": {
       "model_id": "9c73d45fb52d4c85824a55f5d1ccec68",
       "version_major": 2,
       "version_minor": 0
      },
      "text/plain": [
       "solo_L2_eui-hrieuvopn-image_20220308T004750225_V02.fits:   0%|          | 0.00/6.57M [00:00<?, ?B/s]"
      ]
     },
     "metadata": {},
     "output_type": "display_data"
    },
    {
     "data": {
      "application/vnd.jupyter.widget-view+json": {
       "model_id": "8a2369dd37724ffc97338b26e1122bc5",
       "version_major": 2,
       "version_minor": 0
      },
      "text/plain": [
       "solo_L2_eui-hrieuvopn-image_20220308T004755225_V02.fits:   0%|          | 0.00/6.55M [00:00<?, ?B/s]"
      ]
     },
     "metadata": {},
     "output_type": "display_data"
    },
    {
     "data": {
      "application/vnd.jupyter.widget-view+json": {
       "model_id": "ad16a4a553e44a1a88384cdd0dc2cac6",
       "version_major": 2,
       "version_minor": 0
      },
      "text/plain": [
       "solo_L2_eui-hrieuvopn-image_20220308T004800231_V02.fits:   0%|          | 0.00/6.55M [00:00<?, ?B/s]"
      ]
     },
     "metadata": {},
     "output_type": "display_data"
    },
    {
     "data": {
      "application/vnd.jupyter.widget-view+json": {
       "model_id": "4a7337ce4b3441f2b4a762f7a0ed17fa",
       "version_major": 2,
       "version_minor": 0
      },
      "text/plain": [
       "solo_L2_eui-hrieuvopn-image_20220308T004805225_V02.fits:   0%|          | 0.00/6.55M [00:00<?, ?B/s]"
      ]
     },
     "metadata": {},
     "output_type": "display_data"
    },
    {
     "data": {
      "application/vnd.jupyter.widget-view+json": {
       "model_id": "1654b76065a64875a94daf7dcd6ec3b0",
       "version_major": 2,
       "version_minor": 0
      },
      "text/plain": [
       "solo_L2_eui-hrieuvopn-image_20220308T004810225_V02.fits:   0%|          | 0.00/6.57M [00:00<?, ?B/s]"
      ]
     },
     "metadata": {},
     "output_type": "display_data"
    },
    {
     "data": {
      "application/vnd.jupyter.widget-view+json": {
       "model_id": "7ef1a921aafc4502a43a0c1a39a5de9d",
       "version_major": 2,
       "version_minor": 0
      },
      "text/plain": [
       "solo_L2_eui-hrieuvopn-image_20220308T004815225_V02.fits:   0%|          | 0.00/6.58M [00:00<?, ?B/s]"
      ]
     },
     "metadata": {},
     "output_type": "display_data"
    },
    {
     "data": {
      "application/vnd.jupyter.widget-view+json": {
       "model_id": "7bad3501a3614b9ca383d4c8adee8d78",
       "version_major": 2,
       "version_minor": 0
      },
      "text/plain": [
       "solo_L2_eui-hrieuvopn-image_20220308T004820225_V02.fits:   0%|          | 0.00/6.57M [00:00<?, ?B/s]"
      ]
     },
     "metadata": {},
     "output_type": "display_data"
    },
    {
     "data": {
      "application/vnd.jupyter.widget-view+json": {
       "model_id": "cdc2cf43e8e94936acb9bf58887a6def",
       "version_major": 2,
       "version_minor": 0
      },
      "text/plain": [
       "solo_L2_eui-hrieuvopn-image_20220308T004825260_V02.fits:   0%|          | 0.00/6.57M [00:00<?, ?B/s]"
      ]
     },
     "metadata": {},
     "output_type": "display_data"
    },
    {
     "data": {
      "application/vnd.jupyter.widget-view+json": {
       "model_id": "be4de593b46f481b9024f71162401e13",
       "version_major": 2,
       "version_minor": 0
      },
      "text/plain": [
       "solo_L2_eui-hrieuvopn-image_20220308T004835225_V02.fits:   0%|          | 0.00/6.56M [00:00<?, ?B/s]"
      ]
     },
     "metadata": {},
     "output_type": "display_data"
    },
    {
     "data": {
      "application/vnd.jupyter.widget-view+json": {
       "model_id": "7a342bbb48c848cba09e63462e30dc3b",
       "version_major": 2,
       "version_minor": 0
      },
      "text/plain": [
       "solo_L2_eui-hrieuvopn-image_20220308T004830256_V02.fits:   0%|          | 0.00/6.56M [00:00<?, ?B/s]"
      ]
     },
     "metadata": {},
     "output_type": "display_data"
    },
    {
     "data": {
      "application/vnd.jupyter.widget-view+json": {
       "model_id": "710dea8391954b3b8f5324d1f5de6af8",
       "version_major": 2,
       "version_minor": 0
      },
      "text/plain": [
       "solo_L2_eui-hrieuvopn-image_20220308T004845252_V02.fits:   0%|          | 0.00/6.58M [00:00<?, ?B/s]"
      ]
     },
     "metadata": {},
     "output_type": "display_data"
    },
    {
     "data": {
      "application/vnd.jupyter.widget-view+json": {
       "model_id": "de457dd6bade4a6aa56fce298f7cf7d9",
       "version_major": 2,
       "version_minor": 0
      },
      "text/plain": [
       "solo_L2_eui-hrieuvopn-image_20220308T004840225_V02.fits:   0%|          | 0.00/6.58M [00:00<?, ?B/s]"
      ]
     },
     "metadata": {},
     "output_type": "display_data"
    },
    {
     "data": {
      "application/vnd.jupyter.widget-view+json": {
       "model_id": "5730cb38547744849941caa4fbfce57f",
       "version_major": 2,
       "version_minor": 0
      },
      "text/plain": [
       "solo_L2_eui-hrieuvopn-image_20220308T004850225_V02.fits:   0%|          | 0.00/6.56M [00:00<?, ?B/s]"
      ]
     },
     "metadata": {},
     "output_type": "display_data"
    },
    {
     "data": {
      "application/vnd.jupyter.widget-view+json": {
       "model_id": "7dbe453b56d4488d9f8e7e0df435ddbd",
       "version_major": 2,
       "version_minor": 0
      },
      "text/plain": [
       "solo_L2_eui-hrieuvopn-image_20220308T004855225_V02.fits:   0%|          | 0.00/6.57M [00:00<?, ?B/s]"
      ]
     },
     "metadata": {},
     "output_type": "display_data"
    },
    {
     "data": {
      "application/vnd.jupyter.widget-view+json": {
       "model_id": "cfa1328dad60430ea84fc14bb452a6c5",
       "version_major": 2,
       "version_minor": 0
      },
      "text/plain": [
       "solo_L2_eui-hrieuvopn-image_20220308T004900231_V02.fits:   0%|          | 0.00/6.57M [00:00<?, ?B/s]"
      ]
     },
     "metadata": {},
     "output_type": "display_data"
    },
    {
     "data": {
      "application/vnd.jupyter.widget-view+json": {
       "model_id": "9bc69fbe4608470ca20d7d33548e88ce",
       "version_major": 2,
       "version_minor": 0
      },
      "text/plain": [
       "solo_L2_eui-hrieuvopn-image_20220308T004910225_V02.fits:   0%|          | 0.00/6.58M [00:00<?, ?B/s]"
      ]
     },
     "metadata": {},
     "output_type": "display_data"
    },
    {
     "data": {
      "application/vnd.jupyter.widget-view+json": {
       "model_id": "fd73e4f857dc4108b38c9840a25e4240",
       "version_major": 2,
       "version_minor": 0
      },
      "text/plain": [
       "solo_L2_eui-hrieuvopn-image_20220308T004905225_V02.fits:   0%|          | 0.00/6.57M [00:00<?, ?B/s]"
      ]
     },
     "metadata": {},
     "output_type": "display_data"
    },
    {
     "data": {
      "application/vnd.jupyter.widget-view+json": {
       "model_id": "002b2662c7d64359931fa25ef9c82137",
       "version_major": 2,
       "version_minor": 0
      },
      "text/plain": [
       "solo_L2_eui-hrieuvopn-image_20220308T004920225_V02.fits:   0%|          | 0.00/6.56M [00:00<?, ?B/s]"
      ]
     },
     "metadata": {},
     "output_type": "display_data"
    },
    {
     "data": {
      "application/vnd.jupyter.widget-view+json": {
       "model_id": "3f43891c8a634b47a6507a469a83b87b",
       "version_major": 2,
       "version_minor": 0
      },
      "text/plain": [
       "solo_L2_eui-hrieuvopn-image_20220308T004915225_V02.fits:   0%|          | 0.00/6.56M [00:00<?, ?B/s]"
      ]
     },
     "metadata": {},
     "output_type": "display_data"
    },
    {
     "data": {
      "application/vnd.jupyter.widget-view+json": {
       "model_id": "81c4c85550d94db68683d040996a2449",
       "version_major": 2,
       "version_minor": 0
      },
      "text/plain": [
       "solo_L2_eui-hrieuvopn-image_20220308T004925225_V02.fits:   0%|          | 0.00/6.57M [00:00<?, ?B/s]"
      ]
     },
     "metadata": {},
     "output_type": "display_data"
    },
    {
     "data": {
      "application/vnd.jupyter.widget-view+json": {
       "model_id": "e67b6b10eed94b17869c7accd201e047",
       "version_major": 2,
       "version_minor": 0
      },
      "text/plain": [
       "solo_L2_eui-hrieuvopn-image_20220308T004935226_V02.fits:   0%|          | 0.00/6.58M [00:00<?, ?B/s]"
      ]
     },
     "metadata": {},
     "output_type": "display_data"
    },
    {
     "data": {
      "application/vnd.jupyter.widget-view+json": {
       "model_id": "23d638d36633408fa062a80278f69734",
       "version_major": 2,
       "version_minor": 0
      },
      "text/plain": [
       "solo_L2_eui-hrieuvopn-image_20220308T004930236_V02.fits:   0%|          | 0.00/6.58M [00:00<?, ?B/s]"
      ]
     },
     "metadata": {},
     "output_type": "display_data"
    },
    {
     "data": {
      "application/vnd.jupyter.widget-view+json": {
       "model_id": "8dbfa2ddf81a4c119f686bdbe7d1dfc9",
       "version_major": 2,
       "version_minor": 0
      },
      "text/plain": [
       "solo_L2_eui-hrieuvopn-image_20220308T004940225_V02.fits:   0%|          | 0.00/6.56M [00:00<?, ?B/s]"
      ]
     },
     "metadata": {},
     "output_type": "display_data"
    },
    {
     "data": {
      "application/vnd.jupyter.widget-view+json": {
       "model_id": "08e3839df7444916bc9bd9c0680f5631",
       "version_major": 2,
       "version_minor": 0
      },
      "text/plain": [
       "solo_L2_eui-hrieuvopn-image_20220308T004945225_V02.fits:   0%|          | 0.00/6.56M [00:00<?, ?B/s]"
      ]
     },
     "metadata": {},
     "output_type": "display_data"
    },
    {
     "data": {
      "application/vnd.jupyter.widget-view+json": {
       "model_id": "5b796885e47e4146b5a4dd24d29e4ee0",
       "version_major": 2,
       "version_minor": 0
      },
      "text/plain": [
       "solo_L2_eui-hrieuvopn-image_20220308T004950225_V02.fits:   0%|          | 0.00/6.56M [00:00<?, ?B/s]"
      ]
     },
     "metadata": {},
     "output_type": "display_data"
    },
    {
     "data": {
      "application/vnd.jupyter.widget-view+json": {
       "model_id": "68b67e6ffb054a28b1d5c8af85e7c64f",
       "version_major": 2,
       "version_minor": 0
      },
      "text/plain": [
       "solo_L2_eui-hrieuvopn-image_20220308T005000232_V02.fits:   0%|          | 0.00/6.57M [00:00<?, ?B/s]"
      ]
     },
     "metadata": {},
     "output_type": "display_data"
    },
    {
     "data": {
      "application/vnd.jupyter.widget-view+json": {
       "model_id": "91e5eb335eb14fb79867bce08186337c",
       "version_major": 2,
       "version_minor": 0
      },
      "text/plain": [
       "solo_L2_eui-hrieuvopn-image_20220308T004955225_V02.fits:   0%|          | 0.00/6.58M [00:00<?, ?B/s]"
      ]
     },
     "metadata": {},
     "output_type": "display_data"
    },
    {
     "data": {
      "application/vnd.jupyter.widget-view+json": {
       "model_id": "b782eb4ac04c4f078af4d2c57f3cddd3",
       "version_major": 2,
       "version_minor": 0
      },
      "text/plain": [
       "solo_L2_eui-hrieuvopn-image_20220308T005005225_V02.fits:   0%|          | 0.00/6.57M [00:00<?, ?B/s]"
      ]
     },
     "metadata": {},
     "output_type": "display_data"
    },
    {
     "data": {
      "application/vnd.jupyter.widget-view+json": {
       "model_id": "cfa28d600a93433a99f49f393a9295d8",
       "version_major": 2,
       "version_minor": 0
      },
      "text/plain": [
       "solo_L2_eui-hrieuvopn-image_20220308T005010332_V02.fits:   0%|          | 0.00/6.55M [00:00<?, ?B/s]"
      ]
     },
     "metadata": {},
     "output_type": "display_data"
    },
    {
     "data": {
      "application/vnd.jupyter.widget-view+json": {
       "model_id": "4558d737352946aeac4ae67469277a29",
       "version_major": 2,
       "version_minor": 0
      },
      "text/plain": [
       "solo_L2_eui-hrieuvopn-image_20220308T005015225_V02.fits:   0%|          | 0.00/6.57M [00:00<?, ?B/s]"
      ]
     },
     "metadata": {},
     "output_type": "display_data"
    },
    {
     "data": {
      "application/vnd.jupyter.widget-view+json": {
       "model_id": "1b9298d29a2a4c30974dd17c883a7a28",
       "version_major": 2,
       "version_minor": 0
      },
      "text/plain": [
       "solo_L2_eui-hrieuvopn-image_20220308T005020225_V02.fits:   0%|          | 0.00/6.56M [00:00<?, ?B/s]"
      ]
     },
     "metadata": {},
     "output_type": "display_data"
    },
    {
     "data": {
      "application/vnd.jupyter.widget-view+json": {
       "model_id": "af23b86c0d3540e5a1ada31712a6b198",
       "version_major": 2,
       "version_minor": 0
      },
      "text/plain": [
       "solo_L2_eui-hrieuvopn-image_20220308T005025225_V02.fits:   0%|          | 0.00/6.57M [00:00<?, ?B/s]"
      ]
     },
     "metadata": {},
     "output_type": "display_data"
    },
    {
     "data": {
      "application/vnd.jupyter.widget-view+json": {
       "model_id": "9532810baaf34fa1a251e59a4985c328",
       "version_major": 2,
       "version_minor": 0
      },
      "text/plain": [
       "solo_L2_eui-hrieuvopn-image_20220308T005035225_V02.fits:   0%|          | 0.00/6.56M [00:00<?, ?B/s]"
      ]
     },
     "metadata": {},
     "output_type": "display_data"
    },
    {
     "data": {
      "application/vnd.jupyter.widget-view+json": {
       "model_id": "989b696318bb4581a2c354ad3371ccdc",
       "version_major": 2,
       "version_minor": 0
      },
      "text/plain": [
       "solo_L2_eui-hrieuvopn-image_20220308T005030259_V02.fits:   0%|          | 0.00/6.58M [00:00<?, ?B/s]"
      ]
     },
     "metadata": {},
     "output_type": "display_data"
    },
    {
     "data": {
      "application/vnd.jupyter.widget-view+json": {
       "model_id": "aa714aa92a974aea90dfcaff79860fbc",
       "version_major": 2,
       "version_minor": 0
      },
      "text/plain": [
       "solo_L2_eui-hrieuvopn-image_20220308T005040260_V02.fits:   0%|          | 0.00/6.58M [00:00<?, ?B/s]"
      ]
     },
     "metadata": {},
     "output_type": "display_data"
    },
    {
     "data": {
      "application/vnd.jupyter.widget-view+json": {
       "model_id": "6533b682b77244ce948c9048e02ba952",
       "version_major": 2,
       "version_minor": 0
      },
      "text/plain": [
       "solo_L2_eui-hrieuvopn-image_20220308T005045225_V02.fits:   0%|          | 0.00/6.57M [00:00<?, ?B/s]"
      ]
     },
     "metadata": {},
     "output_type": "display_data"
    },
    {
     "data": {
      "application/vnd.jupyter.widget-view+json": {
       "model_id": "63d4de6a66b344868eb181f9b932c242",
       "version_major": 2,
       "version_minor": 0
      },
      "text/plain": [
       "solo_L2_eui-hrieuvopn-image_20220308T005050225_V02.fits:   0%|          | 0.00/6.58M [00:00<?, ?B/s]"
      ]
     },
     "metadata": {},
     "output_type": "display_data"
    },
    {
     "data": {
      "application/vnd.jupyter.widget-view+json": {
       "model_id": "fb38f9098abc4c43909f4030f0e767a6",
       "version_major": 2,
       "version_minor": 0
      },
      "text/plain": [
       "solo_L2_eui-hrieuvopn-image_20220308T005055227_V02.fits:   0%|          | 0.00/6.56M [00:00<?, ?B/s]"
      ]
     },
     "metadata": {},
     "output_type": "display_data"
    },
    {
     "data": {
      "application/vnd.jupyter.widget-view+json": {
       "model_id": "02c23f8c1421460cbd36e6438fc99cc8",
       "version_major": 2,
       "version_minor": 0
      },
      "text/plain": [
       "solo_L2_eui-hrieuvopn-image_20220308T005100320_V02.fits:   0%|          | 0.00/6.56M [00:00<?, ?B/s]"
      ]
     },
     "metadata": {},
     "output_type": "display_data"
    },
    {
     "data": {
      "application/vnd.jupyter.widget-view+json": {
       "model_id": "57b9ae331c28440b9f0c5e49a6786914",
       "version_major": 2,
       "version_minor": 0
      },
      "text/plain": [
       "solo_L2_eui-hrieuvopn-image_20220308T005105225_V02.fits:   0%|          | 0.00/6.57M [00:00<?, ?B/s]"
      ]
     },
     "metadata": {},
     "output_type": "display_data"
    },
    {
     "data": {
      "application/vnd.jupyter.widget-view+json": {
       "model_id": "670b3ea05e9a4dfb99cb4fa856b071bc",
       "version_major": 2,
       "version_minor": 0
      },
      "text/plain": [
       "solo_L2_eui-hrieuvopn-image_20220308T005110225_V02.fits:   0%|          | 0.00/6.57M [00:00<?, ?B/s]"
      ]
     },
     "metadata": {},
     "output_type": "display_data"
    },
    {
     "data": {
      "application/vnd.jupyter.widget-view+json": {
       "model_id": "ec47ba1439f04ae6bb89bef503c12974",
       "version_major": 2,
       "version_minor": 0
      },
      "text/plain": [
       "solo_L2_eui-hrieuvopn-image_20220308T005115225_V02.fits:   0%|          | 0.00/6.56M [00:00<?, ?B/s]"
      ]
     },
     "metadata": {},
     "output_type": "display_data"
    },
    {
     "data": {
      "application/vnd.jupyter.widget-view+json": {
       "model_id": "a3b4903612164b5da7564049228c9afd",
       "version_major": 2,
       "version_minor": 0
      },
      "text/plain": [
       "solo_L2_eui-hrieuvopn-image_20220308T005120225_V02.fits:   0%|          | 0.00/6.58M [00:00<?, ?B/s]"
      ]
     },
     "metadata": {},
     "output_type": "display_data"
    },
    {
     "data": {
      "application/vnd.jupyter.widget-view+json": {
       "model_id": "3d67f6f48db743d4bdf4f0ba71d94f00",
       "version_major": 2,
       "version_minor": 0
      },
      "text/plain": [
       "solo_L2_eui-hrieuvopn-image_20220308T005130225_V02.fits:   0%|          | 0.00/6.57M [00:00<?, ?B/s]"
      ]
     },
     "metadata": {},
     "output_type": "display_data"
    },
    {
     "data": {
      "application/vnd.jupyter.widget-view+json": {
       "model_id": "6ac1f4e251be4b48bb0061f19bd42522",
       "version_major": 2,
       "version_minor": 0
      },
      "text/plain": [
       "solo_L2_eui-hrieuvopn-image_20220308T005125226_V02.fits:   0%|          | 0.00/6.55M [00:00<?, ?B/s]"
      ]
     },
     "metadata": {},
     "output_type": "display_data"
    },
    {
     "data": {
      "application/vnd.jupyter.widget-view+json": {
       "model_id": "aff8289385464edcae0200670cd7d0d8",
       "version_major": 2,
       "version_minor": 0
      },
      "text/plain": [
       "solo_L2_eui-hrieuvopn-image_20220308T005135226_V02.fits:   0%|          | 0.00/6.56M [00:00<?, ?B/s]"
      ]
     },
     "metadata": {},
     "output_type": "display_data"
    },
    {
     "data": {
      "application/vnd.jupyter.widget-view+json": {
       "model_id": "1846b4d53bb841f1ab91a3cd2432c8d3",
       "version_major": 2,
       "version_minor": 0
      },
      "text/plain": [
       "solo_L2_eui-hrieuvopn-image_20220308T005140226_V02.fits:   0%|          | 0.00/6.57M [00:00<?, ?B/s]"
      ]
     },
     "metadata": {},
     "output_type": "display_data"
    },
    {
     "data": {
      "application/vnd.jupyter.widget-view+json": {
       "model_id": "fd4b8d1bde394f93b654389e99e7782b",
       "version_major": 2,
       "version_minor": 0
      },
      "text/plain": [
       "solo_L2_eui-hrieuvopn-image_20220308T005145225_V02.fits:   0%|          | 0.00/6.57M [00:00<?, ?B/s]"
      ]
     },
     "metadata": {},
     "output_type": "display_data"
    },
    {
     "data": {
      "application/vnd.jupyter.widget-view+json": {
       "model_id": "ccf70fb5010945759ef8f565f7c26f2d",
       "version_major": 2,
       "version_minor": 0
      },
      "text/plain": [
       "solo_L2_eui-hrieuvopn-image_20220308T005155225_V02.fits:   0%|          | 0.00/6.57M [00:00<?, ?B/s]"
      ]
     },
     "metadata": {},
     "output_type": "display_data"
    },
    {
     "data": {
      "application/vnd.jupyter.widget-view+json": {
       "model_id": "1cae5654c3bf4e758b5cf3a63a2b13d4",
       "version_major": 2,
       "version_minor": 0
      },
      "text/plain": [
       "solo_L2_eui-hrieuvopn-image_20220308T005150225_V02.fits:   0%|          | 0.00/6.58M [00:00<?, ?B/s]"
      ]
     },
     "metadata": {},
     "output_type": "display_data"
    },
    {
     "data": {
      "application/vnd.jupyter.widget-view+json": {
       "model_id": "f2b6583871d344e3a29ef33e204153da",
       "version_major": 2,
       "version_minor": 0
      },
      "text/plain": [
       "solo_L2_eui-hrieuvopn-image_20220308T005200232_V02.fits:   0%|          | 0.00/6.56M [00:00<?, ?B/s]"
      ]
     },
     "metadata": {},
     "output_type": "display_data"
    },
    {
     "data": {
      "application/vnd.jupyter.widget-view+json": {
       "model_id": "c024fa017cfa49eeb547ed71eaca8325",
       "version_major": 2,
       "version_minor": 0
      },
      "text/plain": [
       "solo_L2_eui-hrieuvopn-image_20220308T005205314_V02.fits:   0%|          | 0.00/6.57M [00:00<?, ?B/s]"
      ]
     },
     "metadata": {},
     "output_type": "display_data"
    },
    {
     "data": {
      "application/vnd.jupyter.widget-view+json": {
       "model_id": "49ab3224d44a491a9527e5d43db30ca3",
       "version_major": 2,
       "version_minor": 0
      },
      "text/plain": [
       "solo_L2_eui-hrieuvopn-image_20220308T005210226_V02.fits:   0%|          | 0.00/6.56M [00:00<?, ?B/s]"
      ]
     },
     "metadata": {},
     "output_type": "display_data"
    },
    {
     "data": {
      "application/vnd.jupyter.widget-view+json": {
       "model_id": "1c7eab3da8b14b89a705c31768b0a429",
       "version_major": 2,
       "version_minor": 0
      },
      "text/plain": [
       "solo_L2_eui-hrieuvopn-image_20220308T005225225_V02.fits:   0%|          | 0.00/6.57M [00:00<?, ?B/s]"
      ]
     },
     "metadata": {},
     "output_type": "display_data"
    },
    {
     "data": {
      "application/vnd.jupyter.widget-view+json": {
       "model_id": "52aa870c2aae4111a0f59988f25bd3c8",
       "version_major": 2,
       "version_minor": 0
      },
      "text/plain": [
       "solo_L2_eui-hrieuvopn-image_20220308T005220225_V02.fits:   0%|          | 0.00/6.58M [00:00<?, ?B/s]"
      ]
     },
     "metadata": {},
     "output_type": "display_data"
    },
    {
     "data": {
      "application/vnd.jupyter.widget-view+json": {
       "model_id": "9fdef52ac0c2485294514aa20ba26044",
       "version_major": 2,
       "version_minor": 0
      },
      "text/plain": [
       "solo_L2_eui-hrieuvopn-image_20220308T005215235_V02.fits:   0%|          | 0.00/6.57M [00:00<?, ?B/s]"
      ]
     },
     "metadata": {},
     "output_type": "display_data"
    },
    {
     "data": {
      "application/vnd.jupyter.widget-view+json": {
       "model_id": "43498880dd0f43b49442f1ca0413353e",
       "version_major": 2,
       "version_minor": 0
      },
      "text/plain": [
       "solo_L2_eui-hrieuvopn-image_20220308T005230225_V02.fits:   0%|          | 0.00/6.56M [00:00<?, ?B/s]"
      ]
     },
     "metadata": {},
     "output_type": "display_data"
    },
    {
     "data": {
      "application/vnd.jupyter.widget-view+json": {
       "model_id": "7118a213e5b847738eada8ebbe2212c1",
       "version_major": 2,
       "version_minor": 0
      },
      "text/plain": [
       "solo_L2_eui-hrieuvopn-image_20220308T005235226_V02.fits:   0%|          | 0.00/6.58M [00:00<?, ?B/s]"
      ]
     },
     "metadata": {},
     "output_type": "display_data"
    },
    {
     "data": {
      "application/vnd.jupyter.widget-view+json": {
       "model_id": "38bbc398cb164550a200401799153f0a",
       "version_major": 2,
       "version_minor": 0
      },
      "text/plain": [
       "solo_L2_eui-hrieuvopn-image_20220308T005240225_V02.fits:   0%|          | 0.00/6.57M [00:00<?, ?B/s]"
      ]
     },
     "metadata": {},
     "output_type": "display_data"
    },
    {
     "data": {
      "application/vnd.jupyter.widget-view+json": {
       "model_id": "33da233058ed44eab045deb9505bd1de",
       "version_major": 2,
       "version_minor": 0
      },
      "text/plain": [
       "solo_L2_eui-hrieuvopn-image_20220308T005245224_V02.fits:   0%|          | 0.00/6.55M [00:00<?, ?B/s]"
      ]
     },
     "metadata": {},
     "output_type": "display_data"
    },
    {
     "data": {
      "application/vnd.jupyter.widget-view+json": {
       "model_id": "d70df789cfef49a7805362feced9a46d",
       "version_major": 2,
       "version_minor": 0
      },
      "text/plain": [
       "solo_L2_eui-hrieuvopn-image_20220308T005250226_V02.fits:   0%|          | 0.00/6.56M [00:00<?, ?B/s]"
      ]
     },
     "metadata": {},
     "output_type": "display_data"
    },
    {
     "data": {
      "application/vnd.jupyter.widget-view+json": {
       "model_id": "7426a6c501924781964f34a47b3419e5",
       "version_major": 2,
       "version_minor": 0
      },
      "text/plain": [
       "solo_L2_eui-hrieuvopn-image_20220308T005255225_V02.fits:   0%|          | 0.00/6.55M [00:00<?, ?B/s]"
      ]
     },
     "metadata": {},
     "output_type": "display_data"
    },
    {
     "data": {
      "application/vnd.jupyter.widget-view+json": {
       "model_id": "45dd9982246c4ca3aaf0d34f20d12928",
       "version_major": 2,
       "version_minor": 0
      },
      "text/plain": [
       "solo_L2_eui-hrieuvopn-image_20220308T005300232_V02.fits:   0%|          | 0.00/6.55M [00:00<?, ?B/s]"
      ]
     },
     "metadata": {},
     "output_type": "display_data"
    },
    {
     "data": {
      "application/vnd.jupyter.widget-view+json": {
       "model_id": "becf42def62e4e2bbb1a73310df71900",
       "version_major": 2,
       "version_minor": 0
      },
      "text/plain": [
       "solo_L2_eui-hrieuvopn-image_20220308T005305225_V02.fits:   0%|          | 0.00/6.57M [00:00<?, ?B/s]"
      ]
     },
     "metadata": {},
     "output_type": "display_data"
    },
    {
     "data": {
      "application/vnd.jupyter.widget-view+json": {
       "model_id": "aace327b98604186be6a949286d5a1ce",
       "version_major": 2,
       "version_minor": 0
      },
      "text/plain": [
       "solo_L2_eui-hrieuvopn-image_20220308T005310226_V02.fits:   0%|          | 0.00/6.56M [00:00<?, ?B/s]"
      ]
     },
     "metadata": {},
     "output_type": "display_data"
    },
    {
     "data": {
      "application/vnd.jupyter.widget-view+json": {
       "model_id": "7ec49663e7724564b1b6c3902569d31b",
       "version_major": 2,
       "version_minor": 0
      },
      "text/plain": [
       "solo_L2_eui-hrieuvopn-image_20220308T005315248_V02.fits:   0%|          | 0.00/6.55M [00:00<?, ?B/s]"
      ]
     },
     "metadata": {},
     "output_type": "display_data"
    },
    {
     "data": {
      "application/vnd.jupyter.widget-view+json": {
       "model_id": "a44a82ecada7470fa5041485a5e6edd8",
       "version_major": 2,
       "version_minor": 0
      },
      "text/plain": [
       "solo_L2_eui-hrieuvopn-image_20220308T005320225_V02.fits:   0%|          | 0.00/6.55M [00:00<?, ?B/s]"
      ]
     },
     "metadata": {},
     "output_type": "display_data"
    },
    {
     "data": {
      "application/vnd.jupyter.widget-view+json": {
       "model_id": "2d62d0cfac774baf9f856bfb8fb46e88",
       "version_major": 2,
       "version_minor": 0
      },
      "text/plain": [
       "solo_L2_eui-hrieuvopn-image_20220308T005340225_V02.fits:   0%|          | 0.00/6.56M [00:00<?, ?B/s]"
      ]
     },
     "metadata": {},
     "output_type": "display_data"
    },
    {
     "data": {
      "application/vnd.jupyter.widget-view+json": {
       "model_id": "36de67535d08478fa7f2c202b9b7fdbb",
       "version_major": 2,
       "version_minor": 0
      },
      "text/plain": [
       "solo_L2_eui-hrieuvopn-image_20220308T005330225_V02.fits:   0%|          | 0.00/6.55M [00:00<?, ?B/s]"
      ]
     },
     "metadata": {},
     "output_type": "display_data"
    },
    {
     "data": {
      "application/vnd.jupyter.widget-view+json": {
       "model_id": "1995e3b5ba314a53a168b7db669b5fee",
       "version_major": 2,
       "version_minor": 0
      },
      "text/plain": [
       "solo_L2_eui-hrieuvopn-image_20220308T005325227_V02.fits:   0%|          | 0.00/6.57M [00:00<?, ?B/s]"
      ]
     },
     "metadata": {},
     "output_type": "display_data"
    },
    {
     "data": {
      "application/vnd.jupyter.widget-view+json": {
       "model_id": "49022abc797c45d3bdb374de54028c81",
       "version_major": 2,
       "version_minor": 0
      },
      "text/plain": [
       "solo_L2_eui-hrieuvopn-image_20220308T005335253_V02.fits:   0%|          | 0.00/6.56M [00:00<?, ?B/s]"
      ]
     },
     "metadata": {},
     "output_type": "display_data"
    },
    {
     "data": {
      "application/vnd.jupyter.widget-view+json": {
       "model_id": "967a924e805f467283315fe57906a076",
       "version_major": 2,
       "version_minor": 0
      },
      "text/plain": [
       "solo_L2_eui-hrieuvopn-image_20220308T005345225_V02.fits:   0%|          | 0.00/6.56M [00:00<?, ?B/s]"
      ]
     },
     "metadata": {},
     "output_type": "display_data"
    },
    {
     "data": {
      "application/vnd.jupyter.widget-view+json": {
       "model_id": "802ddd3947a34afea49ac230ddde4cdf",
       "version_major": 2,
       "version_minor": 0
      },
      "text/plain": [
       "solo_L2_eui-hrieuvopn-image_20220308T005400232_V02.fits:   0%|          | 0.00/6.56M [00:00<?, ?B/s]"
      ]
     },
     "metadata": {},
     "output_type": "display_data"
    },
    {
     "data": {
      "application/vnd.jupyter.widget-view+json": {
       "model_id": "5fa2c249b0e242da93519d3e26305028",
       "version_major": 2,
       "version_minor": 0
      },
      "text/plain": [
       "solo_L2_eui-hrieuvopn-image_20220308T005405225_V02.fits:   0%|          | 0.00/6.57M [00:00<?, ?B/s]"
      ]
     },
     "metadata": {},
     "output_type": "display_data"
    },
    {
     "data": {
      "application/vnd.jupyter.widget-view+json": {
       "model_id": "a54395fa7c3b4ef3907f234058b89706",
       "version_major": 2,
       "version_minor": 0
      },
      "text/plain": [
       "solo_L2_eui-hrieuvopn-image_20220308T005350228_V02.fits:   0%|          | 0.00/6.56M [00:00<?, ?B/s]"
      ]
     },
     "metadata": {},
     "output_type": "display_data"
    },
    {
     "data": {
      "application/vnd.jupyter.widget-view+json": {
       "model_id": "47572d461cdb452289731626a3b78567",
       "version_major": 2,
       "version_minor": 0
      },
      "text/plain": [
       "solo_L2_eui-hrieuvopn-image_20220308T005355226_V02.fits:   0%|          | 0.00/6.55M [00:00<?, ?B/s]"
      ]
     },
     "metadata": {},
     "output_type": "display_data"
    },
    {
     "data": {
      "application/vnd.jupyter.widget-view+json": {
       "model_id": "623fc4bce86d4f68b65c751cc73213e2",
       "version_major": 2,
       "version_minor": 0
      },
      "text/plain": [
       "solo_L2_eui-hrieuvopn-image_20220308T005410225_V02.fits:   0%|          | 0.00/6.56M [00:00<?, ?B/s]"
      ]
     },
     "metadata": {},
     "output_type": "display_data"
    },
    {
     "data": {
      "application/vnd.jupyter.widget-view+json": {
       "model_id": "fcd7461b12c44a28a0097b0898875929",
       "version_major": 2,
       "version_minor": 0
      },
      "text/plain": [
       "solo_L2_eui-hrieuvopn-image_20220308T005430226_V02.fits:   0%|          | 0.00/6.58M [00:00<?, ?B/s]"
      ]
     },
     "metadata": {},
     "output_type": "display_data"
    },
    {
     "data": {
      "application/vnd.jupyter.widget-view+json": {
       "model_id": "73ab4eeb72e04d24bbd94a23cb3c661f",
       "version_major": 2,
       "version_minor": 0
      },
      "text/plain": [
       "solo_L2_eui-hrieuvopn-image_20220308T005420226_V02.fits:   0%|          | 0.00/6.56M [00:00<?, ?B/s]"
      ]
     },
     "metadata": {},
     "output_type": "display_data"
    },
    {
     "data": {
      "application/vnd.jupyter.widget-view+json": {
       "model_id": "64ac356c2a5c4293b4b23280f1d6666a",
       "version_major": 2,
       "version_minor": 0
      },
      "text/plain": [
       "solo_L2_eui-hrieuvopn-image_20220308T005415258_V02.fits:   0%|          | 0.00/6.57M [00:00<?, ?B/s]"
      ]
     },
     "metadata": {},
     "output_type": "display_data"
    },
    {
     "data": {
      "application/vnd.jupyter.widget-view+json": {
       "model_id": "5a2ef0789d1f4da79c7e60b50ec0533a",
       "version_major": 2,
       "version_minor": 0
      },
      "text/plain": [
       "solo_L2_eui-hrieuvopn-image_20220308T005425427_V02.fits:   0%|          | 0.00/6.58M [00:00<?, ?B/s]"
      ]
     },
     "metadata": {},
     "output_type": "display_data"
    },
    {
     "data": {
      "application/vnd.jupyter.widget-view+json": {
       "model_id": "77b13375aa594501bd485b553fda91cd",
       "version_major": 2,
       "version_minor": 0
      },
      "text/plain": [
       "solo_L2_eui-hrieuvopn-image_20220308T005435225_V02.fits:   0%|          | 0.00/6.55M [00:00<?, ?B/s]"
      ]
     },
     "metadata": {},
     "output_type": "display_data"
    },
    {
     "data": {
      "application/vnd.jupyter.widget-view+json": {
       "model_id": "c044d65b0c4941918b925b0a4b7c0bb6",
       "version_major": 2,
       "version_minor": 0
      },
      "text/plain": [
       "solo_L2_eui-hrieuvopn-image_20220308T005455337_V02.fits:   0%|          | 0.00/6.57M [00:00<?, ?B/s]"
      ]
     },
     "metadata": {},
     "output_type": "display_data"
    },
    {
     "data": {
      "application/vnd.jupyter.widget-view+json": {
       "model_id": "28adda98053042448006becaa86608e7",
       "version_major": 2,
       "version_minor": 0
      },
      "text/plain": [
       "solo_L2_eui-hrieuvopn-image_20220308T005440226_V02.fits:   0%|          | 0.00/6.57M [00:00<?, ?B/s]"
      ]
     },
     "metadata": {},
     "output_type": "display_data"
    },
    {
     "data": {
      "application/vnd.jupyter.widget-view+json": {
       "model_id": "5e1f3f492761448bafc5e18da86d8e3e",
       "version_major": 2,
       "version_minor": 0
      },
      "text/plain": [
       "solo_L2_eui-hrieuvopn-image_20220308T005450232_V02.fits:   0%|          | 0.00/6.57M [00:00<?, ?B/s]"
      ]
     },
     "metadata": {},
     "output_type": "display_data"
    },
    {
     "data": {
      "application/vnd.jupyter.widget-view+json": {
       "model_id": "1329d8569d7046d6859ffe93abdb7a7b",
       "version_major": 2,
       "version_minor": 0
      },
      "text/plain": [
       "solo_L2_eui-hrieuvopn-image_20220308T005445226_V02.fits:   0%|          | 0.00/6.57M [00:00<?, ?B/s]"
      ]
     },
     "metadata": {},
     "output_type": "display_data"
    },
    {
     "data": {
      "application/vnd.jupyter.widget-view+json": {
       "model_id": "6313c9651353421ea37d9a44c33f15c3",
       "version_major": 2,
       "version_minor": 0
      },
      "text/plain": [
       "solo_L2_eui-hrieuvopn-image_20220308T005500232_V02.fits:   0%|          | 0.00/6.56M [00:00<?, ?B/s]"
      ]
     },
     "metadata": {},
     "output_type": "display_data"
    },
    {
     "data": {
      "application/vnd.jupyter.widget-view+json": {
       "model_id": "890338d4a9a148529940b4dfa33f2549",
       "version_major": 2,
       "version_minor": 0
      },
      "text/plain": [
       "solo_L2_eui-hrieuvopn-image_20220308T005510226_V02.fits:   0%|          | 0.00/6.57M [00:00<?, ?B/s]"
      ]
     },
     "metadata": {},
     "output_type": "display_data"
    },
    {
     "data": {
      "application/vnd.jupyter.widget-view+json": {
       "model_id": "1f35e41d31be4a8fa03f2ff79c15409f",
       "version_major": 2,
       "version_minor": 0
      },
      "text/plain": [
       "solo_L2_eui-hrieuvopn-image_20220308T005515225_V02.fits:   0%|          | 0.00/6.56M [00:00<?, ?B/s]"
      ]
     },
     "metadata": {},
     "output_type": "display_data"
    },
    {
     "data": {
      "application/vnd.jupyter.widget-view+json": {
       "model_id": "860a4910237545f0b95f82262efcdccb",
       "version_major": 2,
       "version_minor": 0
      },
      "text/plain": [
       "solo_L2_eui-hrieuvopn-image_20220308T005505226_V02.fits:   0%|          | 0.00/6.56M [00:00<?, ?B/s]"
      ]
     },
     "metadata": {},
     "output_type": "display_data"
    },
    {
     "data": {
      "application/vnd.jupyter.widget-view+json": {
       "model_id": "b5c55380cbf749f2b052923f432b98ea",
       "version_major": 2,
       "version_minor": 0
      },
      "text/plain": [
       "solo_L2_eui-hrieuvopn-image_20220308T005520226_V02.fits:   0%|          | 0.00/6.57M [00:00<?, ?B/s]"
      ]
     },
     "metadata": {},
     "output_type": "display_data"
    },
    {
     "data": {
      "application/vnd.jupyter.widget-view+json": {
       "model_id": "b2a9f0b57cde402ebe7e46dbbb262fee",
       "version_major": 2,
       "version_minor": 0
      },
      "text/plain": [
       "solo_L2_eui-hrieuvopn-image_20220308T005525226_V02.fits:   0%|          | 0.00/6.58M [00:00<?, ?B/s]"
      ]
     },
     "metadata": {},
     "output_type": "display_data"
    },
    {
     "data": {
      "application/vnd.jupyter.widget-view+json": {
       "model_id": "18116b9753214550b3f850f8dcbc5f42",
       "version_major": 2,
       "version_minor": 0
      },
      "text/plain": [
       "solo_L2_eui-hrieuvopn-image_20220308T005540226_V02.fits:   0%|          | 0.00/6.55M [00:00<?, ?B/s]"
      ]
     },
     "metadata": {},
     "output_type": "display_data"
    },
    {
     "data": {
      "application/vnd.jupyter.widget-view+json": {
       "model_id": "bcb05f736c0b4750add003de724667f1",
       "version_major": 2,
       "version_minor": 0
      },
      "text/plain": [
       "solo_L2_eui-hrieuvopn-image_20220308T005535226_V02.fits:   0%|          | 0.00/6.55M [00:00<?, ?B/s]"
      ]
     },
     "metadata": {},
     "output_type": "display_data"
    },
    {
     "data": {
      "application/vnd.jupyter.widget-view+json": {
       "model_id": "2f882119eb4d4adba8044e584b2e3148",
       "version_major": 2,
       "version_minor": 0
      },
      "text/plain": [
       "solo_L2_eui-hrieuvopn-image_20220308T005530326_V02.fits:   0%|          | 0.00/6.56M [00:00<?, ?B/s]"
      ]
     },
     "metadata": {},
     "output_type": "display_data"
    },
    {
     "data": {
      "application/vnd.jupyter.widget-view+json": {
       "model_id": "99a7ea735fff4da0b00fec9507927bae",
       "version_major": 2,
       "version_minor": 0
      },
      "text/plain": [
       "solo_L2_eui-hrieuvopn-image_20220308T005545226_V02.fits:   0%|          | 0.00/6.57M [00:00<?, ?B/s]"
      ]
     },
     "metadata": {},
     "output_type": "display_data"
    },
    {
     "data": {
      "application/vnd.jupyter.widget-view+json": {
       "model_id": "b1a4326d570341e29af51f000b72b5cd",
       "version_major": 2,
       "version_minor": 0
      },
      "text/plain": [
       "solo_L2_eui-hrieuvopn-image_20220308T005550226_V02.fits:   0%|          | 0.00/6.57M [00:00<?, ?B/s]"
      ]
     },
     "metadata": {},
     "output_type": "display_data"
    },
    {
     "data": {
      "application/vnd.jupyter.widget-view+json": {
       "model_id": "9eed4c9c5f644617aac4464ec48d1598",
       "version_major": 2,
       "version_minor": 0
      },
      "text/plain": [
       "solo_L2_eui-hrieuvopn-image_20220308T005600232_V02.fits:   0%|          | 0.00/6.56M [00:00<?, ?B/s]"
      ]
     },
     "metadata": {},
     "output_type": "display_data"
    },
    {
     "data": {
      "application/vnd.jupyter.widget-view+json": {
       "model_id": "4e693ae80beb425db9a6ff7d2589f3c3",
       "version_major": 2,
       "version_minor": 0
      },
      "text/plain": [
       "solo_L2_eui-hrieuvopn-image_20220308T005555240_V02.fits:   0%|          | 0.00/6.55M [00:00<?, ?B/s]"
      ]
     },
     "metadata": {},
     "output_type": "display_data"
    },
    {
     "data": {
      "application/vnd.jupyter.widget-view+json": {
       "model_id": "e2e4f817b3af4c20809dff630afad2b2",
       "version_major": 2,
       "version_minor": 0
      },
      "text/plain": [
       "solo_L2_eui-hrieuvopn-image_20220308T005605225_V02.fits:   0%|          | 0.00/6.56M [00:00<?, ?B/s]"
      ]
     },
     "metadata": {},
     "output_type": "display_data"
    },
    {
     "data": {
      "application/vnd.jupyter.widget-view+json": {
       "model_id": "d3c3cbea2bc14c3e864acc1540a7ef09",
       "version_major": 2,
       "version_minor": 0
      },
      "text/plain": [
       "solo_L2_eui-hrieuvopn-image_20220308T005610226_V02.fits:   0%|          | 0.00/6.55M [00:00<?, ?B/s]"
      ]
     },
     "metadata": {},
     "output_type": "display_data"
    },
    {
     "data": {
      "application/vnd.jupyter.widget-view+json": {
       "model_id": "de2060d2185d46d9bab5f4dafc7f5fce",
       "version_major": 2,
       "version_minor": 0
      },
      "text/plain": [
       "solo_L2_eui-hrieuvopn-image_20220308T005615226_V02.fits:   0%|          | 0.00/6.57M [00:00<?, ?B/s]"
      ]
     },
     "metadata": {},
     "output_type": "display_data"
    },
    {
     "data": {
      "application/vnd.jupyter.widget-view+json": {
       "model_id": "193ae37f440e4752b475afd5b93fcab2",
       "version_major": 2,
       "version_minor": 0
      },
      "text/plain": [
       "solo_L2_eui-hrieuvopn-image_20220308T005625273_V02.fits:   0%|          | 0.00/6.55M [00:00<?, ?B/s]"
      ]
     },
     "metadata": {},
     "output_type": "display_data"
    },
    {
     "data": {
      "application/vnd.jupyter.widget-view+json": {
       "model_id": "1ba86fb1a32945808c0422b7fc9747e3",
       "version_major": 2,
       "version_minor": 0
      },
      "text/plain": [
       "solo_L2_eui-hrieuvopn-image_20220308T005635226_V02.fits:   0%|          | 0.00/6.57M [00:00<?, ?B/s]"
      ]
     },
     "metadata": {},
     "output_type": "display_data"
    },
    {
     "data": {
      "application/vnd.jupyter.widget-view+json": {
       "model_id": "bf291c4c56af47f0ae003ad83a8a581e",
       "version_major": 2,
       "version_minor": 0
      },
      "text/plain": [
       "solo_L2_eui-hrieuvopn-image_20220308T005620225_V02.fits:   0%|          | 0.00/6.56M [00:00<?, ?B/s]"
      ]
     },
     "metadata": {},
     "output_type": "display_data"
    },
    {
     "data": {
      "application/vnd.jupyter.widget-view+json": {
       "model_id": "61a9ceca652c4c9a9066d5a58d6b47f6",
       "version_major": 2,
       "version_minor": 0
      },
      "text/plain": [
       "solo_L2_eui-hrieuvopn-image_20220308T005630255_V02.fits:   0%|          | 0.00/6.57M [00:00<?, ?B/s]"
      ]
     },
     "metadata": {},
     "output_type": "display_data"
    },
    {
     "data": {
      "application/vnd.jupyter.widget-view+json": {
       "model_id": "607042721f054a9488837cac696d8f05",
       "version_major": 2,
       "version_minor": 0
      },
      "text/plain": [
       "solo_L2_eui-hrieuvopn-image_20220308T005640226_V02.fits:   0%|          | 0.00/6.58M [00:00<?, ?B/s]"
      ]
     },
     "metadata": {},
     "output_type": "display_data"
    },
    {
     "data": {
      "application/vnd.jupyter.widget-view+json": {
       "model_id": "61cb341f8dbd4b2eb014c35e08ffa221",
       "version_major": 2,
       "version_minor": 0
      },
      "text/plain": [
       "solo_L2_eui-hrieuvopn-image_20220308T005645235_V02.fits:   0%|          | 0.00/6.56M [00:00<?, ?B/s]"
      ]
     },
     "metadata": {},
     "output_type": "display_data"
    },
    {
     "data": {
      "application/vnd.jupyter.widget-view+json": {
       "model_id": "bd5b51c493e44544b81f6fad6bd168c0",
       "version_major": 2,
       "version_minor": 0
      },
      "text/plain": [
       "solo_L2_eui-hrieuvopn-image_20220308T005655226_V02.fits:   0%|          | 0.00/6.57M [00:00<?, ?B/s]"
      ]
     },
     "metadata": {},
     "output_type": "display_data"
    },
    {
     "data": {
      "application/vnd.jupyter.widget-view+json": {
       "model_id": "379d3644a12c43c297498091129e81dc",
       "version_major": 2,
       "version_minor": 0
      },
      "text/plain": [
       "solo_L2_eui-hrieuvopn-image_20220308T005705226_V02.fits:   0%|          | 0.00/6.55M [00:00<?, ?B/s]"
      ]
     },
     "metadata": {},
     "output_type": "display_data"
    },
    {
     "data": {
      "application/vnd.jupyter.widget-view+json": {
       "model_id": "a67e4f2d369443738ff00ccaf4518952",
       "version_major": 2,
       "version_minor": 0
      },
      "text/plain": [
       "solo_L2_eui-hrieuvopn-image_20220308T005700234_V02.fits:   0%|          | 0.00/6.57M [00:00<?, ?B/s]"
      ]
     },
     "metadata": {},
     "output_type": "display_data"
    },
    {
     "data": {
      "application/vnd.jupyter.widget-view+json": {
       "model_id": "a2a7f89b1cf6436ab09474aae329e760",
       "version_major": 2,
       "version_minor": 0
      },
      "text/plain": [
       "solo_L2_eui-hrieuvopn-image_20220308T005650226_V02.fits:   0%|          | 0.00/6.57M [00:00<?, ?B/s]"
      ]
     },
     "metadata": {},
     "output_type": "display_data"
    },
    {
     "data": {
      "application/vnd.jupyter.widget-view+json": {
       "model_id": "0b3568fe3e35475d9654a76998a3efb0",
       "version_major": 2,
       "version_minor": 0
      },
      "text/plain": [
       "solo_L2_eui-hrieuvopn-image_20220308T005730252_V02.fits:   0%|          | 0.00/6.58M [00:00<?, ?B/s]"
      ]
     },
     "metadata": {},
     "output_type": "display_data"
    },
    {
     "data": {
      "application/vnd.jupyter.widget-view+json": {
       "model_id": "e9e84dadb55348aa8a60b1a4c651de99",
       "version_major": 2,
       "version_minor": 0
      },
      "text/plain": [
       "solo_L2_eui-hrieuvopn-image_20220308T005710226_V02.fits:   0%|          | 0.00/6.57M [00:00<?, ?B/s]"
      ]
     },
     "metadata": {},
     "output_type": "display_data"
    },
    {
     "data": {
      "application/vnd.jupyter.widget-view+json": {
       "model_id": "ad6c865b59734e8aab79a3e9f832160e",
       "version_major": 2,
       "version_minor": 0
      },
      "text/plain": [
       "solo_L2_eui-hrieuvopn-image_20220308T005715225_V02.fits:   0%|          | 0.00/6.57M [00:00<?, ?B/s]"
      ]
     },
     "metadata": {},
     "output_type": "display_data"
    },
    {
     "data": {
      "application/vnd.jupyter.widget-view+json": {
       "model_id": "d3be36ff3d504ded95bd5c06fd76ed89",
       "version_major": 2,
       "version_minor": 0
      },
      "text/plain": [
       "solo_L2_eui-hrieuvopn-image_20220308T005720226_V02.fits:   0%|          | 0.00/6.55M [00:00<?, ?B/s]"
      ]
     },
     "metadata": {},
     "output_type": "display_data"
    },
    {
     "data": {
      "application/vnd.jupyter.widget-view+json": {
       "model_id": "48a5eaabf31848c3bcfb93107c2cd5f3",
       "version_major": 2,
       "version_minor": 0
      },
      "text/plain": [
       "solo_L2_eui-hrieuvopn-image_20220308T005725256_V02.fits:   0%|          | 0.00/6.55M [00:00<?, ?B/s]"
      ]
     },
     "metadata": {},
     "output_type": "display_data"
    },
    {
     "data": {
      "application/vnd.jupyter.widget-view+json": {
       "model_id": "17091e79c83848f085235415848dd487",
       "version_major": 2,
       "version_minor": 0
      },
      "text/plain": [
       "solo_L2_eui-hrieuvopn-image_20220308T005735300_V02.fits:   0%|          | 0.00/6.58M [00:00<?, ?B/s]"
      ]
     },
     "metadata": {},
     "output_type": "display_data"
    },
    {
     "data": {
      "application/vnd.jupyter.widget-view+json": {
       "model_id": "3d97fc91167e40fa8b042d4a5a2cbbf5",
       "version_major": 2,
       "version_minor": 0
      },
      "text/plain": [
       "solo_L2_eui-hrieuvopn-image_20220308T005740226_V02.fits:   0%|          | 0.00/6.57M [00:00<?, ?B/s]"
      ]
     },
     "metadata": {},
     "output_type": "display_data"
    },
    {
     "data": {
      "application/vnd.jupyter.widget-view+json": {
       "model_id": "4c24351dda714a3ba05819c21cf1967a",
       "version_major": 2,
       "version_minor": 0
      },
      "text/plain": [
       "solo_L2_eui-hrieuvopn-image_20220308T005755226_V02.fits:   0%|          | 0.00/6.56M [00:00<?, ?B/s]"
      ]
     },
     "metadata": {},
     "output_type": "display_data"
    },
    {
     "data": {
      "application/vnd.jupyter.widget-view+json": {
       "model_id": "0a35135b2d454454823f02f91afc1081",
       "version_major": 2,
       "version_minor": 0
      },
      "text/plain": [
       "solo_L2_eui-hrieuvopn-image_20220308T005750233_V02.fits:   0%|          | 0.00/6.56M [00:00<?, ?B/s]"
      ]
     },
     "metadata": {},
     "output_type": "display_data"
    },
    {
     "data": {
      "application/vnd.jupyter.widget-view+json": {
       "model_id": "05e5e29a8bd342178565581a18289315",
       "version_major": 2,
       "version_minor": 0
      },
      "text/plain": [
       "solo_L2_eui-hrieuvopn-image_20220308T005745240_V02.fits:   0%|          | 0.00/6.56M [00:00<?, ?B/s]"
      ]
     },
     "metadata": {},
     "output_type": "display_data"
    },
    {
     "data": {
      "application/vnd.jupyter.widget-view+json": {
       "model_id": "0fb0bb2910c047aca77048f15d9fd31f",
       "version_major": 2,
       "version_minor": 0
      },
      "text/plain": [
       "solo_L2_eui-hrieuvopn-image_20220308T005810226_V02.fits:   0%|          | 0.00/6.58M [00:00<?, ?B/s]"
      ]
     },
     "metadata": {},
     "output_type": "display_data"
    },
    {
     "data": {
      "application/vnd.jupyter.widget-view+json": {
       "model_id": "3cad5a862f0d4d0d9b211b5212ca9f0f",
       "version_major": 2,
       "version_minor": 0
      },
      "text/plain": [
       "solo_L2_eui-hrieuvopn-image_20220308T005820226_V02.fits:   0%|          | 0.00/6.57M [00:00<?, ?B/s]"
      ]
     },
     "metadata": {},
     "output_type": "display_data"
    },
    {
     "data": {
      "application/vnd.jupyter.widget-view+json": {
       "model_id": "b1efb34b67bb498a948267607626a71a",
       "version_major": 2,
       "version_minor": 0
      },
      "text/plain": [
       "solo_L2_eui-hrieuvopn-image_20220308T005815243_V02.fits:   0%|          | 0.00/6.55M [00:00<?, ?B/s]"
      ]
     },
     "metadata": {},
     "output_type": "display_data"
    },
    {
     "data": {
      "application/vnd.jupyter.widget-view+json": {
       "model_id": "079cd2b2bcb649e4b23be79888376c1f",
       "version_major": 2,
       "version_minor": 0
      },
      "text/plain": [
       "solo_L2_eui-hrieuvopn-image_20220308T005800231_V02.fits:   0%|          | 0.00/6.56M [00:00<?, ?B/s]"
      ]
     },
     "metadata": {},
     "output_type": "display_data"
    },
    {
     "data": {
      "application/vnd.jupyter.widget-view+json": {
       "model_id": "10a692d3406f4bdd9c66ad64ca0d2b56",
       "version_major": 2,
       "version_minor": 0
      },
      "text/plain": [
       "solo_L2_eui-hrieuvopn-image_20220308T005805226_V02.fits:   0%|          | 0.00/6.56M [00:00<?, ?B/s]"
      ]
     },
     "metadata": {},
     "output_type": "display_data"
    },
    {
     "data": {
      "application/vnd.jupyter.widget-view+json": {
       "model_id": "858bfad504bf49dc83457f0835071e00",
       "version_major": 2,
       "version_minor": 0
      },
      "text/plain": [
       "solo_L2_eui-hrieuvopn-image_20220308T005825231_V02.fits:   0%|          | 0.00/6.56M [00:00<?, ?B/s]"
      ]
     },
     "metadata": {},
     "output_type": "display_data"
    },
    {
     "data": {
      "application/vnd.jupyter.widget-view+json": {
       "model_id": "3033fa3c9a92412aaa4e83c7f7009bd0",
       "version_major": 2,
       "version_minor": 0
      },
      "text/plain": [
       "solo_L2_eui-hrieuvopn-image_20220308T005830226_V02.fits:   0%|          | 0.00/6.58M [00:00<?, ?B/s]"
      ]
     },
     "metadata": {},
     "output_type": "display_data"
    },
    {
     "data": {
      "application/vnd.jupyter.widget-view+json": {
       "model_id": "89d34f4a18bb49d5838515ad87c35888",
       "version_major": 2,
       "version_minor": 0
      },
      "text/plain": [
       "solo_L2_eui-hrieuvopn-image_20220308T005835226_V02.fits:   0%|          | 0.00/6.57M [00:00<?, ?B/s]"
      ]
     },
     "metadata": {},
     "output_type": "display_data"
    },
    {
     "data": {
      "application/vnd.jupyter.widget-view+json": {
       "model_id": "17b990c1d3504af28c626a23605645a4",
       "version_major": 2,
       "version_minor": 0
      },
      "text/plain": [
       "solo_L2_eui-hrieuvopn-image_20220308T005840226_V02.fits:   0%|          | 0.00/6.57M [00:00<?, ?B/s]"
      ]
     },
     "metadata": {},
     "output_type": "display_data"
    },
    {
     "data": {
      "application/vnd.jupyter.widget-view+json": {
       "model_id": "fded988958474f4abc64f117a3e77564",
       "version_major": 2,
       "version_minor": 0
      },
      "text/plain": [
       "solo_L2_eui-hrieuvopn-image_20220308T005845256_V02.fits:   0%|          | 0.00/6.56M [00:00<?, ?B/s]"
      ]
     },
     "metadata": {},
     "output_type": "display_data"
    },
    {
     "data": {
      "application/vnd.jupyter.widget-view+json": {
       "model_id": "6af07803f9f447eca927701e508c7b9f",
       "version_major": 2,
       "version_minor": 0
      },
      "text/plain": [
       "solo_L2_eui-hrieuvopn-image_20220308T005855226_V02.fits:   0%|          | 0.00/6.55M [00:00<?, ?B/s]"
      ]
     },
     "metadata": {},
     "output_type": "display_data"
    },
    {
     "data": {
      "application/vnd.jupyter.widget-view+json": {
       "model_id": "16da25a5bf364d9e81776367c0dc4791",
       "version_major": 2,
       "version_minor": 0
      },
      "text/plain": [
       "solo_L2_eui-hrieuvopn-image_20220308T005900232_V02.fits:   0%|          | 0.00/6.57M [00:00<?, ?B/s]"
      ]
     },
     "metadata": {},
     "output_type": "display_data"
    },
    {
     "data": {
      "application/vnd.jupyter.widget-view+json": {
       "model_id": "16a154bf48874aed8cd8167b66059fad",
       "version_major": 2,
       "version_minor": 0
      },
      "text/plain": [
       "solo_L2_eui-hrieuvopn-image_20220308T005850226_V02.fits:   0%|          | 0.00/6.56M [00:00<?, ?B/s]"
      ]
     },
     "metadata": {},
     "output_type": "display_data"
    },
    {
     "data": {
      "application/vnd.jupyter.widget-view+json": {
       "model_id": "762ac63b48f447808e8e9c9a653895fb",
       "version_major": 2,
       "version_minor": 0
      },
      "text/plain": [
       "solo_L2_eui-hrieuvopn-image_20220308T005905226_V02.fits:   0%|          | 0.00/6.56M [00:00<?, ?B/s]"
      ]
     },
     "metadata": {},
     "output_type": "display_data"
    },
    {
     "data": {
      "application/vnd.jupyter.widget-view+json": {
       "model_id": "c3de304731b74ba5864e129c56e0882e",
       "version_major": 2,
       "version_minor": 0
      },
      "text/plain": [
       "solo_L2_eui-hrieuvopn-image_20220308T005910226_V02.fits:   0%|          | 0.00/6.56M [00:00<?, ?B/s]"
      ]
     },
     "metadata": {},
     "output_type": "display_data"
    },
    {
     "data": {
      "application/vnd.jupyter.widget-view+json": {
       "model_id": "a85a7521e4ff496088a73badca8a99b5",
       "version_major": 2,
       "version_minor": 0
      },
      "text/plain": [
       "solo_L2_eui-hrieuvopn-image_20220308T005920226_V02.fits:   0%|          | 0.00/6.57M [00:00<?, ?B/s]"
      ]
     },
     "metadata": {},
     "output_type": "display_data"
    },
    {
     "data": {
      "application/vnd.jupyter.widget-view+json": {
       "model_id": "58cfc696059a4d26a32ee32015ce84f4",
       "version_major": 2,
       "version_minor": 0
      },
      "text/plain": [
       "solo_L2_eui-hrieuvopn-image_20220308T005915226_V02.fits:   0%|          | 0.00/6.57M [00:00<?, ?B/s]"
      ]
     },
     "metadata": {},
     "output_type": "display_data"
    },
    {
     "data": {
      "application/vnd.jupyter.widget-view+json": {
       "model_id": "d4e90591721447658d39ce118d5ac912",
       "version_major": 2,
       "version_minor": 0
      },
      "text/plain": [
       "solo_L2_eui-hrieuvopn-image_20220308T005925260_V02.fits:   0%|          | 0.00/6.56M [00:00<?, ?B/s]"
      ]
     },
     "metadata": {},
     "output_type": "display_data"
    },
    {
     "data": {
      "application/vnd.jupyter.widget-view+json": {
       "model_id": "38617b5a5b614818a2a48ea11a2e2c80",
       "version_major": 2,
       "version_minor": 0
      },
      "text/plain": [
       "solo_L2_eui-hrieuvopn-image_20220308T005930258_V02.fits:   0%|          | 0.00/6.58M [00:00<?, ?B/s]"
      ]
     },
     "metadata": {},
     "output_type": "display_data"
    },
    {
     "data": {
      "application/vnd.jupyter.widget-view+json": {
       "model_id": "9c1ba91826af44d5ae150bb163ef86cc",
       "version_major": 2,
       "version_minor": 0
      },
      "text/plain": [
       "solo_L2_eui-hrieuvopn-image_20220308T005935304_V02.fits:   0%|          | 0.00/6.57M [00:00<?, ?B/s]"
      ]
     },
     "metadata": {},
     "output_type": "display_data"
    },
    {
     "data": {
      "application/vnd.jupyter.widget-view+json": {
       "model_id": "88e56b11b8be4a3e9b0ac6c7101106eb",
       "version_major": 2,
       "version_minor": 0
      },
      "text/plain": [
       "solo_L2_eui-hrieuvopn-image_20220308T005940226_V02.fits:   0%|          | 0.00/6.56M [00:00<?, ?B/s]"
      ]
     },
     "metadata": {},
     "output_type": "display_data"
    },
    {
     "data": {
      "application/vnd.jupyter.widget-view+json": {
       "model_id": "49e998c00f0b4104bb61843beb57f1c0",
       "version_major": 2,
       "version_minor": 0
      },
      "text/plain": [
       "solo_L2_eui-hrieuvopn-image_20220308T005945226_V02.fits:   0%|          | 0.00/6.57M [00:00<?, ?B/s]"
      ]
     },
     "metadata": {},
     "output_type": "display_data"
    },
    {
     "data": {
      "application/vnd.jupyter.widget-view+json": {
       "model_id": "8036838d15dd429fa805c5527a138f1e",
       "version_major": 2,
       "version_minor": 0
      },
      "text/plain": [
       "solo_L2_eui-hrieuvopn-image_20220308T005950226_V02.fits:   0%|          | 0.00/6.57M [00:00<?, ?B/s]"
      ]
     },
     "metadata": {},
     "output_type": "display_data"
    },
    {
     "data": {
      "application/vnd.jupyter.widget-view+json": {
       "model_id": "8558d88cf281433fa8c26d0760c4aab2",
       "version_major": 2,
       "version_minor": 0
      },
      "text/plain": [
       "solo_L2_eui-hrieuvopn-image_20220308T005955226_V02.fits:   0%|          | 0.00/6.56M [00:00<?, ?B/s]"
      ]
     },
     "metadata": {},
     "output_type": "display_data"
    },
    {
     "data": {
      "application/vnd.jupyter.widget-view+json": {
       "model_id": "d8dc482fb5644e689e11be2ac003bfff",
       "version_major": 2,
       "version_minor": 0
      },
      "text/plain": [
       "solo_L2_eui-hrieuvopn-image_20220308T010000232_V02.fits:   0%|          | 0.00/6.57M [00:00<?, ?B/s]"
      ]
     },
     "metadata": {},
     "output_type": "display_data"
    },
    {
     "data": {
      "application/vnd.jupyter.widget-view+json": {
       "model_id": "43bad281d6174d848f7aab23bd0fda22",
       "version_major": 2,
       "version_minor": 0
      },
      "text/plain": [
       "solo_L2_eui-hrieuvopn-image_20220308T010005226_V02.fits:   0%|          | 0.00/6.56M [00:00<?, ?B/s]"
      ]
     },
     "metadata": {},
     "output_type": "display_data"
    },
    {
     "data": {
      "application/vnd.jupyter.widget-view+json": {
       "model_id": "9349ab38b1a74412ab125c312a0f85e3",
       "version_major": 2,
       "version_minor": 0
      },
      "text/plain": [
       "solo_L2_eui-hrieuvopn-image_20220308T010010226_V02.fits:   0%|          | 0.00/6.58M [00:00<?, ?B/s]"
      ]
     },
     "metadata": {},
     "output_type": "display_data"
    },
    {
     "data": {
      "application/vnd.jupyter.widget-view+json": {
       "model_id": "c276f40a72af4cebbbde6acc56034a5c",
       "version_major": 2,
       "version_minor": 0
      },
      "text/plain": [
       "solo_L2_eui-hrieuvopn-image_20220308T010015226_V02.fits:   0%|          | 0.00/6.57M [00:00<?, ?B/s]"
      ]
     },
     "metadata": {},
     "output_type": "display_data"
    },
    {
     "data": {
      "application/vnd.jupyter.widget-view+json": {
       "model_id": "d6cc754eb379415c963e9ca0e1a32666",
       "version_major": 2,
       "version_minor": 0
      },
      "text/plain": [
       "solo_L2_eui-hrieuvopn-image_20220308T010020226_V02.fits:   0%|          | 0.00/6.57M [00:00<?, ?B/s]"
      ]
     },
     "metadata": {},
     "output_type": "display_data"
    },
    {
     "data": {
      "application/vnd.jupyter.widget-view+json": {
       "model_id": "26bd81f7cfc34b759e6f595ae398392a",
       "version_major": 2,
       "version_minor": 0
      },
      "text/plain": [
       "solo_L2_eui-hrieuvopn-image_20220308T010025226_V02.fits:   0%|          | 0.00/6.56M [00:00<?, ?B/s]"
      ]
     },
     "metadata": {},
     "output_type": "display_data"
    },
    {
     "data": {
      "application/vnd.jupyter.widget-view+json": {
       "model_id": "573905fbd2c041a692621864b3db44b0",
       "version_major": 2,
       "version_minor": 0
      },
      "text/plain": [
       "solo_L2_eui-hrieuvopn-image_20220308T010030260_V02.fits:   0%|          | 0.00/6.57M [00:00<?, ?B/s]"
      ]
     },
     "metadata": {},
     "output_type": "display_data"
    },
    {
     "data": {
      "application/vnd.jupyter.widget-view+json": {
       "model_id": "465916eadf644a84a92d5bcedc7536b6",
       "version_major": 2,
       "version_minor": 0
      },
      "text/plain": [
       "solo_L2_eui-hrieuvopn-image_20220308T010035226_V02.fits:   0%|          | 0.00/6.56M [00:00<?, ?B/s]"
      ]
     },
     "metadata": {},
     "output_type": "display_data"
    },
    {
     "data": {
      "application/vnd.jupyter.widget-view+json": {
       "model_id": "4b425be3160f4186b6b03708bbaa56b7",
       "version_major": 2,
       "version_minor": 0
      },
      "text/plain": [
       "solo_L2_eui-hrieuvopn-image_20220308T010040226_V02.fits:   0%|          | 0.00/6.57M [00:00<?, ?B/s]"
      ]
     },
     "metadata": {},
     "output_type": "display_data"
    },
    {
     "data": {
      "application/vnd.jupyter.widget-view+json": {
       "model_id": "297c7bb65b3047148a1ca7c130aa5342",
       "version_major": 2,
       "version_minor": 0
      },
      "text/plain": [
       "solo_L2_eui-hrieuvopn-image_20220308T010045226_V02.fits:   0%|          | 0.00/6.57M [00:00<?, ?B/s]"
      ]
     },
     "metadata": {},
     "output_type": "display_data"
    },
    {
     "data": {
      "application/vnd.jupyter.widget-view+json": {
       "model_id": "cbe148fe925a4304b13a4d4409476584",
       "version_major": 2,
       "version_minor": 0
      },
      "text/plain": [
       "solo_L2_eui-hrieuvopn-image_20220308T010050227_V02.fits:   0%|          | 0.00/6.57M [00:00<?, ?B/s]"
      ]
     },
     "metadata": {},
     "output_type": "display_data"
    },
    {
     "data": {
      "application/vnd.jupyter.widget-view+json": {
       "model_id": "c91e288ec8534dd5ba15ffe0bcf70780",
       "version_major": 2,
       "version_minor": 0
      },
      "text/plain": [
       "solo_L2_eui-hrieuvopn-image_20220308T010055226_V02.fits:   0%|          | 0.00/6.58M [00:00<?, ?B/s]"
      ]
     },
     "metadata": {},
     "output_type": "display_data"
    },
    {
     "data": {
      "application/vnd.jupyter.widget-view+json": {
       "model_id": "97df0e0899814ab3a42ce76c45d78fea",
       "version_major": 2,
       "version_minor": 0
      },
      "text/plain": [
       "solo_L2_eui-hrieuvopn-image_20220308T010100234_V02.fits:   0%|          | 0.00/6.57M [00:00<?, ?B/s]"
      ]
     },
     "metadata": {},
     "output_type": "display_data"
    },
    {
     "data": {
      "application/vnd.jupyter.widget-view+json": {
       "model_id": "13839b361d2f4495b59d3199c73f950c",
       "version_major": 2,
       "version_minor": 0
      },
      "text/plain": [
       "solo_L2_eui-hrieuvopn-image_20220308T010105226_V02.fits:   0%|          | 0.00/6.57M [00:00<?, ?B/s]"
      ]
     },
     "metadata": {},
     "output_type": "display_data"
    },
    {
     "data": {
      "application/vnd.jupyter.widget-view+json": {
       "model_id": "0ec572dc18f94d99954b9304698a1ca3",
       "version_major": 2,
       "version_minor": 0
      },
      "text/plain": [
       "solo_L2_eui-hrieuvopn-image_20220308T010110226_V02.fits:   0%|          | 0.00/6.56M [00:00<?, ?B/s]"
      ]
     },
     "metadata": {},
     "output_type": "display_data"
    },
    {
     "data": {
      "application/vnd.jupyter.widget-view+json": {
       "model_id": "6320d2cd40d1448f84b58c5da5d2b421",
       "version_major": 2,
       "version_minor": 0
      },
      "text/plain": [
       "solo_L2_eui-hrieuvopn-image_20220308T010115226_V02.fits:   0%|          | 0.00/6.55M [00:00<?, ?B/s]"
      ]
     },
     "metadata": {},
     "output_type": "display_data"
    },
    {
     "data": {
      "application/vnd.jupyter.widget-view+json": {
       "model_id": "482aa6564bf24fcb9363e36311062018",
       "version_major": 2,
       "version_minor": 0
      },
      "text/plain": [
       "solo_L2_eui-hrieuvopn-image_20220308T010120238_V02.fits:   0%|          | 0.00/6.56M [00:00<?, ?B/s]"
      ]
     },
     "metadata": {},
     "output_type": "display_data"
    },
    {
     "data": {
      "application/vnd.jupyter.widget-view+json": {
       "model_id": "6c46956a8ab84a1d8a39f90fd7c4f0a1",
       "version_major": 2,
       "version_minor": 0
      },
      "text/plain": [
       "solo_L2_eui-hrieuvopn-image_20220308T010130261_V02.fits:   0%|          | 0.00/6.57M [00:00<?, ?B/s]"
      ]
     },
     "metadata": {},
     "output_type": "display_data"
    },
    {
     "data": {
      "application/vnd.jupyter.widget-view+json": {
       "model_id": "5162345c25564896aa85d888206d19e8",
       "version_major": 2,
       "version_minor": 0
      },
      "text/plain": [
       "solo_L2_eui-hrieuvopn-image_20220308T010125260_V02.fits:   0%|          | 0.00/6.57M [00:00<?, ?B/s]"
      ]
     },
     "metadata": {},
     "output_type": "display_data"
    },
    {
     "data": {
      "application/vnd.jupyter.widget-view+json": {
       "model_id": "7bdbc2b875944c02a33e1088398c99ab",
       "version_major": 2,
       "version_minor": 0
      },
      "text/plain": [
       "solo_L2_eui-hrieuvopn-image_20220308T010135382_V02.fits:   0%|          | 0.00/6.56M [00:00<?, ?B/s]"
      ]
     },
     "metadata": {},
     "output_type": "display_data"
    },
    {
     "data": {
      "application/vnd.jupyter.widget-view+json": {
       "model_id": "6a27135213734162b4c199ec70ecb45d",
       "version_major": 2,
       "version_minor": 0
      },
      "text/plain": [
       "solo_L2_eui-hrieuvopn-image_20220308T010140226_V02.fits:   0%|          | 0.00/6.58M [00:00<?, ?B/s]"
      ]
     },
     "metadata": {},
     "output_type": "display_data"
    },
    {
     "data": {
      "application/vnd.jupyter.widget-view+json": {
       "model_id": "3443516d7ac048ffb922053846b508b0",
       "version_major": 2,
       "version_minor": 0
      },
      "text/plain": [
       "solo_L2_eui-hrieuvopn-image_20220308T010145226_V02.fits:   0%|          | 0.00/6.58M [00:00<?, ?B/s]"
      ]
     },
     "metadata": {},
     "output_type": "display_data"
    },
    {
     "data": {
      "application/vnd.jupyter.widget-view+json": {
       "model_id": "e718a76b324644fd879432b68d978a33",
       "version_major": 2,
       "version_minor": 0
      },
      "text/plain": [
       "solo_L2_eui-hrieuvopn-image_20220308T010150241_V02.fits:   0%|          | 0.00/6.57M [00:00<?, ?B/s]"
      ]
     },
     "metadata": {},
     "output_type": "display_data"
    },
    {
     "data": {
      "application/vnd.jupyter.widget-view+json": {
       "model_id": "d0004d850b474a818587aa3a07acbbe7",
       "version_major": 2,
       "version_minor": 0
      },
      "text/plain": [
       "solo_L2_eui-hrieuvopn-image_20220308T010155226_V02.fits:   0%|          | 0.00/6.56M [00:00<?, ?B/s]"
      ]
     },
     "metadata": {},
     "output_type": "display_data"
    },
    {
     "data": {
      "application/vnd.jupyter.widget-view+json": {
       "model_id": "6c11d954438048b5ba540f20f187db47",
       "version_major": 2,
       "version_minor": 0
      },
      "text/plain": [
       "solo_L2_eui-hrieuvopn-image_20220308T010200231_V02.fits:   0%|          | 0.00/6.56M [00:00<?, ?B/s]"
      ]
     },
     "metadata": {},
     "output_type": "display_data"
    },
    {
     "data": {
      "application/vnd.jupyter.widget-view+json": {
       "model_id": "87e3f345df1644ec863b204ec58a9911",
       "version_major": 2,
       "version_minor": 0
      },
      "text/plain": [
       "solo_L2_eui-hrieuvopn-image_20220308T010205226_V02.fits:   0%|          | 0.00/6.58M [00:00<?, ?B/s]"
      ]
     },
     "metadata": {},
     "output_type": "display_data"
    },
    {
     "data": {
      "application/vnd.jupyter.widget-view+json": {
       "model_id": "eb6cd66eea7742e0b4f65898e91c30e9",
       "version_major": 2,
       "version_minor": 0
      },
      "text/plain": [
       "solo_L2_eui-hrieuvopn-image_20220308T010210226_V02.fits:   0%|          | 0.00/6.57M [00:00<?, ?B/s]"
      ]
     },
     "metadata": {},
     "output_type": "display_data"
    },
    {
     "data": {
      "application/vnd.jupyter.widget-view+json": {
       "model_id": "569d7a38bcfb4838a4091a6ee6360834",
       "version_major": 2,
       "version_minor": 0
      },
      "text/plain": [
       "solo_L2_eui-hrieuvopn-image_20220308T010215226_V02.fits:   0%|          | 0.00/6.57M [00:00<?, ?B/s]"
      ]
     },
     "metadata": {},
     "output_type": "display_data"
    },
    {
     "data": {
      "application/vnd.jupyter.widget-view+json": {
       "model_id": "ab2c689dfe534940bbc21d2406db4c56",
       "version_major": 2,
       "version_minor": 0
      },
      "text/plain": [
       "solo_L2_eui-hrieuvopn-image_20220308T010220226_V02.fits:   0%|          | 0.00/6.56M [00:00<?, ?B/s]"
      ]
     },
     "metadata": {},
     "output_type": "display_data"
    },
    {
     "data": {
      "application/vnd.jupyter.widget-view+json": {
       "model_id": "6d0d9a9f640c468f893371b891b2d391",
       "version_major": 2,
       "version_minor": 0
      },
      "text/plain": [
       "solo_L2_eui-hrieuvopn-image_20220308T010225258_V02.fits:   0%|          | 0.00/6.57M [00:00<?, ?B/s]"
      ]
     },
     "metadata": {},
     "output_type": "display_data"
    },
    {
     "data": {
      "application/vnd.jupyter.widget-view+json": {
       "model_id": "89a959f42317401da344ad18ec041bd4",
       "version_major": 2,
       "version_minor": 0
      },
      "text/plain": [
       "solo_L2_eui-hrieuvopn-image_20220308T010230544_V02.fits:   0%|          | 0.00/6.56M [00:00<?, ?B/s]"
      ]
     },
     "metadata": {},
     "output_type": "display_data"
    },
    {
     "data": {
      "application/vnd.jupyter.widget-view+json": {
       "model_id": "16afac4aa526413e952d992d29baa62a",
       "version_major": 2,
       "version_minor": 0
      },
      "text/plain": [
       "solo_L2_eui-hrieuvopn-image_20220308T010235226_V02.fits:   0%|          | 0.00/6.56M [00:00<?, ?B/s]"
      ]
     },
     "metadata": {},
     "output_type": "display_data"
    },
    {
     "data": {
      "application/vnd.jupyter.widget-view+json": {
       "model_id": "9b47ecc06630417cbb4af07b7b4cad86",
       "version_major": 2,
       "version_minor": 0
      },
      "text/plain": [
       "solo_L2_eui-hrieuvopn-image_20220308T010245227_V02.fits:   0%|          | 0.00/6.56M [00:00<?, ?B/s]"
      ]
     },
     "metadata": {},
     "output_type": "display_data"
    },
    {
     "data": {
      "application/vnd.jupyter.widget-view+json": {
       "model_id": "d5668404fea1435bb510f01260b3aca0",
       "version_major": 2,
       "version_minor": 0
      },
      "text/plain": [
       "solo_L2_eui-hrieuvopn-image_20220308T010240226_V02.fits:   0%|          | 0.00/6.55M [00:00<?, ?B/s]"
      ]
     },
     "metadata": {},
     "output_type": "display_data"
    },
    {
     "data": {
      "application/vnd.jupyter.widget-view+json": {
       "model_id": "bcc6102e629f43baba30fcbaa5a34630",
       "version_major": 2,
       "version_minor": 0
      },
      "text/plain": [
       "solo_L2_eui-hrieuvopn-image_20220308T010250237_V02.fits:   0%|          | 0.00/6.57M [00:00<?, ?B/s]"
      ]
     },
     "metadata": {},
     "output_type": "display_data"
    },
    {
     "data": {
      "application/vnd.jupyter.widget-view+json": {
       "model_id": "8130513675a441409f91a227cac38d80",
       "version_major": 2,
       "version_minor": 0
      },
      "text/plain": [
       "solo_L2_eui-hrieuvopn-image_20220308T010255495_V02.fits:   0%|          | 0.00/6.57M [00:00<?, ?B/s]"
      ]
     },
     "metadata": {},
     "output_type": "display_data"
    },
    {
     "data": {
      "application/vnd.jupyter.widget-view+json": {
       "model_id": "293fa64217a14e5d8c705d6fe993d2f7",
       "version_major": 2,
       "version_minor": 0
      },
      "text/plain": [
       "solo_L2_eui-hrieuvopn-image_20220308T010300233_V02.fits:   0%|          | 0.00/6.58M [00:00<?, ?B/s]"
      ]
     },
     "metadata": {},
     "output_type": "display_data"
    },
    {
     "data": {
      "application/vnd.jupyter.widget-view+json": {
       "model_id": "75022a0b14de46a0980df1f84a834f19",
       "version_major": 2,
       "version_minor": 0
      },
      "text/plain": [
       "solo_L2_eui-hrieuvopn-image_20220308T010305226_V02.fits:   0%|          | 0.00/6.56M [00:00<?, ?B/s]"
      ]
     },
     "metadata": {},
     "output_type": "display_data"
    },
    {
     "data": {
      "application/vnd.jupyter.widget-view+json": {
       "model_id": "d02d3bdf733a45a2869d6adb623bdbc8",
       "version_major": 2,
       "version_minor": 0
      },
      "text/plain": [
       "solo_L2_eui-hrieuvopn-image_20220308T010310227_V02.fits:   0%|          | 0.00/6.55M [00:00<?, ?B/s]"
      ]
     },
     "metadata": {},
     "output_type": "display_data"
    },
    {
     "data": {
      "application/vnd.jupyter.widget-view+json": {
       "model_id": "4130f5d5b74b496f9b7c78eb6837ecbf",
       "version_major": 2,
       "version_minor": 0
      },
      "text/plain": [
       "solo_L2_eui-hrieuvopn-image_20220308T010315227_V02.fits:   0%|          | 0.00/6.57M [00:00<?, ?B/s]"
      ]
     },
     "metadata": {},
     "output_type": "display_data"
    },
    {
     "data": {
      "application/vnd.jupyter.widget-view+json": {
       "model_id": "27d841c4ad5943f7815409536dff7af0",
       "version_major": 2,
       "version_minor": 0
      },
      "text/plain": [
       "solo_L2_eui-hrieuvopn-image_20220308T010320250_V02.fits:   0%|          | 0.00/6.55M [00:00<?, ?B/s]"
      ]
     },
     "metadata": {},
     "output_type": "display_data"
    },
    {
     "data": {
      "application/vnd.jupyter.widget-view+json": {
       "model_id": "75868bb4c2a04b9285d32d6617b00fe6",
       "version_major": 2,
       "version_minor": 0
      },
      "text/plain": [
       "solo_L2_eui-hrieuvopn-image_20220308T010325226_V02.fits:   0%|          | 0.00/6.57M [00:00<?, ?B/s]"
      ]
     },
     "metadata": {},
     "output_type": "display_data"
    },
    {
     "data": {
      "application/vnd.jupyter.widget-view+json": {
       "model_id": "5569b9edfe564e4991c6238c74fd10d3",
       "version_major": 2,
       "version_minor": 0
      },
      "text/plain": [
       "solo_L2_eui-hrieuvopn-image_20220308T010330262_V02.fits:   0%|          | 0.00/6.56M [00:00<?, ?B/s]"
      ]
     },
     "metadata": {},
     "output_type": "display_data"
    },
    {
     "data": {
      "application/vnd.jupyter.widget-view+json": {
       "model_id": "bf69f27c3bde4e35972478ed87c09eba",
       "version_major": 2,
       "version_minor": 0
      },
      "text/plain": [
       "solo_L2_eui-hrieuvopn-image_20220308T010335363_V02.fits:   0%|          | 0.00/6.56M [00:00<?, ?B/s]"
      ]
     },
     "metadata": {},
     "output_type": "display_data"
    },
    {
     "data": {
      "application/vnd.jupyter.widget-view+json": {
       "model_id": "0e3ffbaef34c4f238c3fd48060dd942c",
       "version_major": 2,
       "version_minor": 0
      },
      "text/plain": [
       "solo_L2_eui-hrieuvopn-image_20220308T010340227_V02.fits:   0%|          | 0.00/6.57M [00:00<?, ?B/s]"
      ]
     },
     "metadata": {},
     "output_type": "display_data"
    },
    {
     "data": {
      "application/vnd.jupyter.widget-view+json": {
       "model_id": "4ae0c742fa8245e7b6faafaa7d5ab575",
       "version_major": 2,
       "version_minor": 0
      },
      "text/plain": [
       "solo_L2_eui-hrieuvopn-image_20220308T010345227_V02.fits:   0%|          | 0.00/6.57M [00:00<?, ?B/s]"
      ]
     },
     "metadata": {},
     "output_type": "display_data"
    },
    {
     "data": {
      "application/vnd.jupyter.widget-view+json": {
       "model_id": "49a8b78d20f149da93344f7617897304",
       "version_major": 2,
       "version_minor": 0
      },
      "text/plain": [
       "solo_L2_eui-hrieuvopn-image_20220308T010350227_V02.fits:   0%|          | 0.00/6.58M [00:00<?, ?B/s]"
      ]
     },
     "metadata": {},
     "output_type": "display_data"
    },
    {
     "data": {
      "application/vnd.jupyter.widget-view+json": {
       "model_id": "8493665719654b25bb09fb506a0de161",
       "version_major": 2,
       "version_minor": 0
      },
      "text/plain": [
       "solo_L2_eui-hrieuvopn-image_20220308T010355254_V02.fits:   0%|          | 0.00/6.56M [00:00<?, ?B/s]"
      ]
     },
     "metadata": {},
     "output_type": "display_data"
    },
    {
     "data": {
      "application/vnd.jupyter.widget-view+json": {
       "model_id": "3342e7044dc74ab9801b05918835d080",
       "version_major": 2,
       "version_minor": 0
      },
      "text/plain": [
       "solo_L2_eui-hrieuvopn-image_20220308T010400233_V02.fits:   0%|          | 0.00/6.58M [00:00<?, ?B/s]"
      ]
     },
     "metadata": {},
     "output_type": "display_data"
    },
    {
     "data": {
      "application/vnd.jupyter.widget-view+json": {
       "model_id": "369d5fc5669f4d25978a6ad508896236",
       "version_major": 2,
       "version_minor": 0
      },
      "text/plain": [
       "solo_L2_eui-hrieuvopn-image_20220308T010405226_V02.fits:   0%|          | 0.00/6.57M [00:00<?, ?B/s]"
      ]
     },
     "metadata": {},
     "output_type": "display_data"
    },
    {
     "data": {
      "application/vnd.jupyter.widget-view+json": {
       "model_id": "a32b70a4a24d4753b25281acbfc7cbd9",
       "version_major": 2,
       "version_minor": 0
      },
      "text/plain": [
       "solo_L2_eui-hrieuvopn-image_20220308T010410244_V02.fits:   0%|          | 0.00/6.57M [00:00<?, ?B/s]"
      ]
     },
     "metadata": {},
     "output_type": "display_data"
    },
    {
     "data": {
      "application/vnd.jupyter.widget-view+json": {
       "model_id": "9aa3f96ec59d492c8c1174e6b354f7ab",
       "version_major": 2,
       "version_minor": 0
      },
      "text/plain": [
       "solo_L2_eui-hrieuvopn-image_20220308T010415227_V02.fits:   0%|          | 0.00/6.57M [00:00<?, ?B/s]"
      ]
     },
     "metadata": {},
     "output_type": "display_data"
    },
    {
     "data": {
      "application/vnd.jupyter.widget-view+json": {
       "model_id": "f1b9b352e3e64d1fbfd2232bdc9e4e1d",
       "version_major": 2,
       "version_minor": 0
      },
      "text/plain": [
       "solo_L2_eui-hrieuvopn-image_20220308T010420227_V02.fits:   0%|          | 0.00/6.57M [00:00<?, ?B/s]"
      ]
     },
     "metadata": {},
     "output_type": "display_data"
    },
    {
     "data": {
      "application/vnd.jupyter.widget-view+json": {
       "model_id": "9d9e031377424e3792ea7988be20a407",
       "version_major": 2,
       "version_minor": 0
      },
      "text/plain": [
       "solo_L2_eui-hrieuvopn-image_20220308T010425227_V02.fits:   0%|          | 0.00/6.58M [00:00<?, ?B/s]"
      ]
     },
     "metadata": {},
     "output_type": "display_data"
    },
    {
     "data": {
      "application/vnd.jupyter.widget-view+json": {
       "model_id": "cf3041fb4b0a4fe1a6e485ba077b9937",
       "version_major": 2,
       "version_minor": 0
      },
      "text/plain": [
       "solo_L2_eui-hrieuvopn-image_20220308T010430226_V02.fits:   0%|          | 0.00/6.57M [00:00<?, ?B/s]"
      ]
     },
     "metadata": {},
     "output_type": "display_data"
    },
    {
     "data": {
      "application/vnd.jupyter.widget-view+json": {
       "model_id": "1dae9de13bbc46da9e82bc069afcfba6",
       "version_major": 2,
       "version_minor": 0
      },
      "text/plain": [
       "solo_L2_eui-hrieuvopn-image_20220308T010435227_V02.fits:   0%|          | 0.00/6.57M [00:00<?, ?B/s]"
      ]
     },
     "metadata": {},
     "output_type": "display_data"
    },
    {
     "data": {
      "application/vnd.jupyter.widget-view+json": {
       "model_id": "cd9cc57198364b18aa58113857df186d",
       "version_major": 2,
       "version_minor": 0
      },
      "text/plain": [
       "solo_L2_eui-hrieuvopn-image_20220308T010440231_V02.fits:   0%|          | 0.00/6.58M [00:00<?, ?B/s]"
      ]
     },
     "metadata": {},
     "output_type": "display_data"
    },
    {
     "data": {
      "application/vnd.jupyter.widget-view+json": {
       "model_id": "a698004fc44a4ed3bbdd98ac5bb3b983",
       "version_major": 2,
       "version_minor": 0
      },
      "text/plain": [
       "solo_L2_eui-hrieuvopn-image_20220308T010445227_V02.fits:   0%|          | 0.00/6.56M [00:00<?, ?B/s]"
      ]
     },
     "metadata": {},
     "output_type": "display_data"
    },
    {
     "data": {
      "application/vnd.jupyter.widget-view+json": {
       "model_id": "c72b03ce238d47c8ad4a4f024a420204",
       "version_major": 2,
       "version_minor": 0
      },
      "text/plain": [
       "solo_L2_eui-hrieuvopn-image_20220308T010455226_V02.fits:   0%|          | 0.00/6.56M [00:00<?, ?B/s]"
      ]
     },
     "metadata": {},
     "output_type": "display_data"
    },
    {
     "data": {
      "application/vnd.jupyter.widget-view+json": {
       "model_id": "9e03406b47a142c2925457d3b4b2ea9a",
       "version_major": 2,
       "version_minor": 0
      },
      "text/plain": [
       "solo_L2_eui-hrieuvopn-image_20220308T010450227_V02.fits:   0%|          | 0.00/6.55M [00:00<?, ?B/s]"
      ]
     },
     "metadata": {},
     "output_type": "display_data"
    },
    {
     "data": {
      "application/vnd.jupyter.widget-view+json": {
       "model_id": "e478df197c0b402c9232418aa2bf315f",
       "version_major": 2,
       "version_minor": 0
      },
      "text/plain": [
       "solo_L2_eui-hrieuvopn-image_20220308T010500518_V02.fits:   0%|          | 0.00/6.56M [00:00<?, ?B/s]"
      ]
     },
     "metadata": {},
     "output_type": "display_data"
    },
    {
     "data": {
      "application/vnd.jupyter.widget-view+json": {
       "model_id": "0e789cf243864ac3bb3e6be40bb9db3d",
       "version_major": 2,
       "version_minor": 0
      },
      "text/plain": [
       "solo_L2_eui-hrieuvopn-image_20220308T010515227_V02.fits:   0%|          | 0.00/6.56M [00:00<?, ?B/s]"
      ]
     },
     "metadata": {},
     "output_type": "display_data"
    },
    {
     "data": {
      "application/vnd.jupyter.widget-view+json": {
       "model_id": "f82ba3904789492eb3458995646d8cc1",
       "version_major": 2,
       "version_minor": 0
      },
      "text/plain": [
       "solo_L2_eui-hrieuvopn-image_20220308T010520227_V02.fits:   0%|          | 0.00/6.56M [00:00<?, ?B/s]"
      ]
     },
     "metadata": {},
     "output_type": "display_data"
    },
    {
     "data": {
      "application/vnd.jupyter.widget-view+json": {
       "model_id": "8b77c0a977da41bb9b01b6a26720e793",
       "version_major": 2,
       "version_minor": 0
      },
      "text/plain": [
       "solo_L2_eui-hrieuvopn-image_20220308T010505227_V02.fits:   0%|          | 0.00/6.56M [00:00<?, ?B/s]"
      ]
     },
     "metadata": {},
     "output_type": "display_data"
    },
    {
     "data": {
      "application/vnd.jupyter.widget-view+json": {
       "model_id": "cfd7f77a40d549dba333a9b7cae751e9",
       "version_major": 2,
       "version_minor": 0
      },
      "text/plain": [
       "solo_L2_eui-hrieuvopn-image_20220308T010510235_V02.fits:   0%|          | 0.00/6.56M [00:00<?, ?B/s]"
      ]
     },
     "metadata": {},
     "output_type": "display_data"
    },
    {
     "data": {
      "application/vnd.jupyter.widget-view+json": {
       "model_id": "514aec28f4ab46bba79a8ef3c29038bb",
       "version_major": 2,
       "version_minor": 0
      },
      "text/plain": [
       "solo_L2_eui-hrieuvopn-image_20220308T010525227_V02.fits:   0%|          | 0.00/6.56M [00:00<?, ?B/s]"
      ]
     },
     "metadata": {},
     "output_type": "display_data"
    },
    {
     "data": {
      "application/vnd.jupyter.widget-view+json": {
       "model_id": "dd8bc3c17bd749e89cf2b5f4af791c40",
       "version_major": 2,
       "version_minor": 0
      },
      "text/plain": [
       "solo_L2_eui-hrieuvopn-image_20220308T010530227_V02.fits:   0%|          | 0.00/6.56M [00:00<?, ?B/s]"
      ]
     },
     "metadata": {},
     "output_type": "display_data"
    },
    {
     "data": {
      "application/vnd.jupyter.widget-view+json": {
       "model_id": "5668a64669d345fe994c5bff69a61314",
       "version_major": 2,
       "version_minor": 0
      },
      "text/plain": [
       "solo_L2_eui-hrieuvopn-image_20220308T010535227_V02.fits:   0%|          | 0.00/6.56M [00:00<?, ?B/s]"
      ]
     },
     "metadata": {},
     "output_type": "display_data"
    },
    {
     "data": {
      "application/vnd.jupyter.widget-view+json": {
       "model_id": "42069f36e1724988b025654509732fd9",
       "version_major": 2,
       "version_minor": 0
      },
      "text/plain": [
       "solo_L2_eui-hrieuvopn-image_20220308T010540227_V02.fits:   0%|          | 0.00/6.56M [00:00<?, ?B/s]"
      ]
     },
     "metadata": {},
     "output_type": "display_data"
    },
    {
     "data": {
      "application/vnd.jupyter.widget-view+json": {
       "model_id": "269810d228264f0786d91781338dca2e",
       "version_major": 2,
       "version_minor": 0
      },
      "text/plain": [
       "solo_L2_eui-hrieuvopn-image_20220308T010545227_V02.fits:   0%|          | 0.00/6.56M [00:00<?, ?B/s]"
      ]
     },
     "metadata": {},
     "output_type": "display_data"
    },
    {
     "data": {
      "application/vnd.jupyter.widget-view+json": {
       "model_id": "349c524bcfd840fb98598ee8964d83d1",
       "version_major": 2,
       "version_minor": 0
      },
      "text/plain": [
       "solo_L2_eui-hrieuvopn-image_20220308T010550242_V02.fits:   0%|          | 0.00/6.56M [00:00<?, ?B/s]"
      ]
     },
     "metadata": {},
     "output_type": "display_data"
    },
    {
     "data": {
      "application/vnd.jupyter.widget-view+json": {
       "model_id": "703f2be8c8ea445282982181c7c4a5be",
       "version_major": 2,
       "version_minor": 0
      },
      "text/plain": [
       "solo_L2_eui-hrieuvopn-image_20220308T010555227_V02.fits:   0%|          | 0.00/6.57M [00:00<?, ?B/s]"
      ]
     },
     "metadata": {},
     "output_type": "display_data"
    },
    {
     "data": {
      "application/vnd.jupyter.widget-view+json": {
       "model_id": "465f58251b7146dca2cedf6932ac1f4f",
       "version_major": 2,
       "version_minor": 0
      },
      "text/plain": [
       "solo_L2_eui-hrieuvopn-image_20220308T010610259_V02.fits:   0%|          | 0.00/6.58M [00:00<?, ?B/s]"
      ]
     },
     "metadata": {},
     "output_type": "display_data"
    },
    {
     "data": {
      "application/vnd.jupyter.widget-view+json": {
       "model_id": "0e1cd122ce214f4db52e8f456cb8c94d",
       "version_major": 2,
       "version_minor": 0
      },
      "text/plain": [
       "solo_L2_eui-hrieuvopn-image_20220308T010600233_V02.fits:   0%|          | 0.00/6.57M [00:00<?, ?B/s]"
      ]
     },
     "metadata": {},
     "output_type": "display_data"
    },
    {
     "data": {
      "application/vnd.jupyter.widget-view+json": {
       "model_id": "f7c741f1ff964009b2375310edf4f64c",
       "version_major": 2,
       "version_minor": 0
      },
      "text/plain": [
       "solo_L2_eui-hrieuvopn-image_20220308T010605227_V02.fits:   0%|          | 0.00/6.55M [00:00<?, ?B/s]"
      ]
     },
     "metadata": {},
     "output_type": "display_data"
    },
    {
     "data": {
      "application/vnd.jupyter.widget-view+json": {
       "model_id": "c131b13899db47178813ea29be8b5985",
       "version_major": 2,
       "version_minor": 0
      },
      "text/plain": [
       "solo_L2_eui-hrieuvopn-image_20220308T010615227_V02.fits:   0%|          | 0.00/6.57M [00:00<?, ?B/s]"
      ]
     },
     "metadata": {},
     "output_type": "display_data"
    },
    {
     "data": {
      "application/vnd.jupyter.widget-view+json": {
       "model_id": "410c133099bf4781b534d186b5d7035d",
       "version_major": 2,
       "version_minor": 0
      },
      "text/plain": [
       "solo_L2_eui-hrieuvopn-image_20220308T010620227_V02.fits:   0%|          | 0.00/6.55M [00:00<?, ?B/s]"
      ]
     },
     "metadata": {},
     "output_type": "display_data"
    },
    {
     "data": {
      "application/vnd.jupyter.widget-view+json": {
       "model_id": "45bf649c7539424ea45f24c39de2564a",
       "version_major": 2,
       "version_minor": 0
      },
      "text/plain": [
       "solo_L2_eui-hrieuvopn-image_20220308T010630227_V02.fits:   0%|          | 0.00/6.56M [00:00<?, ?B/s]"
      ]
     },
     "metadata": {},
     "output_type": "display_data"
    },
    {
     "data": {
      "application/vnd.jupyter.widget-view+json": {
       "model_id": "006b2c8c249c40ab8a74906b871f6610",
       "version_major": 2,
       "version_minor": 0
      },
      "text/plain": [
       "solo_L2_eui-hrieuvopn-image_20220308T010635227_V02.fits:   0%|          | 0.00/6.57M [00:00<?, ?B/s]"
      ]
     },
     "metadata": {},
     "output_type": "display_data"
    },
    {
     "data": {
      "application/vnd.jupyter.widget-view+json": {
       "model_id": "48c0e3950538449c96fb941dab1061df",
       "version_major": 2,
       "version_minor": 0
      },
      "text/plain": [
       "solo_L2_eui-hrieuvopn-image_20220308T010625227_V02.fits:   0%|          | 0.00/6.57M [00:00<?, ?B/s]"
      ]
     },
     "metadata": {},
     "output_type": "display_data"
    },
    {
     "data": {
      "application/vnd.jupyter.widget-view+json": {
       "model_id": "a2367aa00d9a49c6b47b442a31910d07",
       "version_major": 2,
       "version_minor": 0
      },
      "text/plain": [
       "solo_L2_eui-hrieuvopn-image_20220308T010640227_V02.fits:   0%|          | 0.00/6.57M [00:00<?, ?B/s]"
      ]
     },
     "metadata": {},
     "output_type": "display_data"
    },
    {
     "data": {
      "application/vnd.jupyter.widget-view+json": {
       "model_id": "0a70cda557a14f46a6034c730a53cc44",
       "version_major": 2,
       "version_minor": 0
      },
      "text/plain": [
       "solo_L2_eui-hrieuvopn-image_20220308T010645227_V02.fits:   0%|          | 0.00/6.56M [00:00<?, ?B/s]"
      ]
     },
     "metadata": {},
     "output_type": "display_data"
    },
    {
     "data": {
      "application/vnd.jupyter.widget-view+json": {
       "model_id": "4fb6df44514e4de4a2f4dce819622f31",
       "version_major": 2,
       "version_minor": 0
      },
      "text/plain": [
       "solo_L2_eui-hrieuvopn-image_20220308T010655240_V02.fits:   0%|          | 0.00/6.57M [00:00<?, ?B/s]"
      ]
     },
     "metadata": {},
     "output_type": "display_data"
    },
    {
     "data": {
      "application/vnd.jupyter.widget-view+json": {
       "model_id": "100c1c9059f04bbb92f1aebae93e92a3",
       "version_major": 2,
       "version_minor": 0
      },
      "text/plain": [
       "solo_L2_eui-hrieuvopn-image_20220308T010650227_V02.fits:   0%|          | 0.00/6.56M [00:00<?, ?B/s]"
      ]
     },
     "metadata": {},
     "output_type": "display_data"
    },
    {
     "data": {
      "application/vnd.jupyter.widget-view+json": {
       "model_id": "dc31d5db7c2249b28bcffa4e56a82899",
       "version_major": 2,
       "version_minor": 0
      },
      "text/plain": [
       "solo_L2_eui-hrieuvopn-image_20220308T010700234_V02.fits:   0%|          | 0.00/6.57M [00:00<?, ?B/s]"
      ]
     },
     "metadata": {},
     "output_type": "display_data"
    },
    {
     "data": {
      "application/vnd.jupyter.widget-view+json": {
       "model_id": "0c6c78ff994e48dc991afa54157cbea3",
       "version_major": 2,
       "version_minor": 0
      },
      "text/plain": [
       "solo_L2_eui-hrieuvopn-image_20220308T010705227_V02.fits:   0%|          | 0.00/6.57M [00:00<?, ?B/s]"
      ]
     },
     "metadata": {},
     "output_type": "display_data"
    },
    {
     "data": {
      "application/vnd.jupyter.widget-view+json": {
       "model_id": "e50b4f2018b54ea8a6ae1da41057e370",
       "version_major": 2,
       "version_minor": 0
      },
      "text/plain": [
       "solo_L2_eui-hrieuvopn-image_20220308T010715227_V02.fits:   0%|          | 0.00/6.58M [00:00<?, ?B/s]"
      ]
     },
     "metadata": {},
     "output_type": "display_data"
    },
    {
     "data": {
      "application/vnd.jupyter.widget-view+json": {
       "model_id": "528fbadc353443f78044ea1bcfa00360",
       "version_major": 2,
       "version_minor": 0
      },
      "text/plain": [
       "solo_L2_eui-hrieuvopn-image_20220308T010710227_V02.fits:   0%|          | 0.00/6.56M [00:00<?, ?B/s]"
      ]
     },
     "metadata": {},
     "output_type": "display_data"
    },
    {
     "data": {
      "application/vnd.jupyter.widget-view+json": {
       "model_id": "7c0aae81a545470d88c33f04760a0350",
       "version_major": 2,
       "version_minor": 0
      },
      "text/plain": [
       "solo_L2_eui-hrieuvopn-image_20220308T010720227_V02.fits:   0%|          | 0.00/6.57M [00:00<?, ?B/s]"
      ]
     },
     "metadata": {},
     "output_type": "display_data"
    },
    {
     "data": {
      "application/vnd.jupyter.widget-view+json": {
       "model_id": "1a55468d727a45f3a53b63a5ba8abe41",
       "version_major": 2,
       "version_minor": 0
      },
      "text/plain": [
       "solo_L2_eui-hrieuvopn-image_20220308T010725227_V02.fits:   0%|          | 0.00/6.55M [00:00<?, ?B/s]"
      ]
     },
     "metadata": {},
     "output_type": "display_data"
    },
    {
     "data": {
      "application/vnd.jupyter.widget-view+json": {
       "model_id": "9c0eecef4e54473cb86432488d23fcd2",
       "version_major": 2,
       "version_minor": 0
      },
      "text/plain": [
       "solo_L2_eui-hrieuvopn-image_20220308T010730426_V02.fits:   0%|          | 0.00/6.56M [00:00<?, ?B/s]"
      ]
     },
     "metadata": {},
     "output_type": "display_data"
    },
    {
     "data": {
      "application/vnd.jupyter.widget-view+json": {
       "model_id": "5316363624e24e0ebcc09b47f3e5499d",
       "version_major": 2,
       "version_minor": 0
      },
      "text/plain": [
       "solo_L2_eui-hrieuvopn-image_20220308T010735227_V02.fits:   0%|          | 0.00/6.57M [00:00<?, ?B/s]"
      ]
     },
     "metadata": {},
     "output_type": "display_data"
    },
    {
     "data": {
      "application/vnd.jupyter.widget-view+json": {
       "model_id": "b59c00265a25438ea7dc55b5c53320d1",
       "version_major": 2,
       "version_minor": 0
      },
      "text/plain": [
       "solo_L2_eui-hrieuvopn-image_20220308T010745227_V02.fits:   0%|          | 0.00/6.57M [00:00<?, ?B/s]"
      ]
     },
     "metadata": {},
     "output_type": "display_data"
    },
    {
     "data": {
      "application/vnd.jupyter.widget-view+json": {
       "model_id": "68072ec00b9f4ea091ea357eabeb0e2b",
       "version_major": 2,
       "version_minor": 0
      },
      "text/plain": [
       "solo_L2_eui-hrieuvopn-image_20220308T010740227_V02.fits:   0%|          | 0.00/6.57M [00:00<?, ?B/s]"
      ]
     },
     "metadata": {},
     "output_type": "display_data"
    },
    {
     "data": {
      "application/vnd.jupyter.widget-view+json": {
       "model_id": "71687f1ccfa948d781a43f9a1c15fbf8",
       "version_major": 2,
       "version_minor": 0
      },
      "text/plain": [
       "solo_L2_eui-hrieuvopn-image_20220308T010750498_V02.fits:   0%|          | 0.00/6.57M [00:00<?, ?B/s]"
      ]
     },
     "metadata": {},
     "output_type": "display_data"
    },
    {
     "data": {
      "application/vnd.jupyter.widget-view+json": {
       "model_id": "e2be3ecf614d4212bcc0115d9528c9bd",
       "version_major": 2,
       "version_minor": 0
      },
      "text/plain": [
       "solo_L2_eui-hrieuvopn-image_20220308T010755227_V02.fits:   0%|          | 0.00/6.57M [00:00<?, ?B/s]"
      ]
     },
     "metadata": {},
     "output_type": "display_data"
    },
    {
     "data": {
      "application/vnd.jupyter.widget-view+json": {
       "model_id": "fda683dc5be54765b052aa1a2452cdc1",
       "version_major": 2,
       "version_minor": 0
      },
      "text/plain": [
       "solo_L2_eui-hrieuvopn-image_20220308T010805227_V02.fits:   0%|          | 0.00/6.57M [00:00<?, ?B/s]"
      ]
     },
     "metadata": {},
     "output_type": "display_data"
    },
    {
     "data": {
      "application/vnd.jupyter.widget-view+json": {
       "model_id": "4d7c4348556d44af89dbaef171e954df",
       "version_major": 2,
       "version_minor": 0
      },
      "text/plain": [
       "solo_L2_eui-hrieuvopn-image_20220308T010800233_V02.fits:   0%|          | 0.00/6.56M [00:00<?, ?B/s]"
      ]
     },
     "metadata": {},
     "output_type": "display_data"
    },
    {
     "data": {
      "application/vnd.jupyter.widget-view+json": {
       "model_id": "00a17e5a378445c5b4ad61aec02a6342",
       "version_major": 2,
       "version_minor": 0
      },
      "text/plain": [
       "solo_L2_eui-hrieuvopn-image_20220308T010810227_V02.fits:   0%|          | 0.00/6.56M [00:00<?, ?B/s]"
      ]
     },
     "metadata": {},
     "output_type": "display_data"
    },
    {
     "data": {
      "application/vnd.jupyter.widget-view+json": {
       "model_id": "dc7f4a33974e4f9abf7091d6b796c4d1",
       "version_major": 2,
       "version_minor": 0
      },
      "text/plain": [
       "solo_L2_eui-hrieuvopn-image_20220308T010815227_V02.fits:   0%|          | 0.00/6.58M [00:00<?, ?B/s]"
      ]
     },
     "metadata": {},
     "output_type": "display_data"
    },
    {
     "data": {
      "application/vnd.jupyter.widget-view+json": {
       "model_id": "9099eff38cb74d78aea876010f2e46ad",
       "version_major": 2,
       "version_minor": 0
      },
      "text/plain": [
       "solo_L2_eui-hrieuvopn-image_20220308T010820227_V02.fits:   0%|          | 0.00/6.56M [00:00<?, ?B/s]"
      ]
     },
     "metadata": {},
     "output_type": "display_data"
    },
    {
     "data": {
      "application/vnd.jupyter.widget-view+json": {
       "model_id": "298a69a15dbf4fd7b81a922d259e7736",
       "version_major": 2,
       "version_minor": 0
      },
      "text/plain": [
       "solo_L2_eui-hrieuvopn-image_20220308T010835227_V02.fits:   0%|          | 0.00/6.56M [00:00<?, ?B/s]"
      ]
     },
     "metadata": {},
     "output_type": "display_data"
    },
    {
     "data": {
      "application/vnd.jupyter.widget-view+json": {
       "model_id": "0d4154a6e8664c799a22e0b5829fe872",
       "version_major": 2,
       "version_minor": 0
      },
      "text/plain": [
       "solo_L2_eui-hrieuvopn-image_20220308T010825227_V02.fits:   0%|          | 0.00/6.57M [00:00<?, ?B/s]"
      ]
     },
     "metadata": {},
     "output_type": "display_data"
    },
    {
     "data": {
      "application/vnd.jupyter.widget-view+json": {
       "model_id": "5ed74686d9f8407d97a367e2795f5db5",
       "version_major": 2,
       "version_minor": 0
      },
      "text/plain": [
       "solo_L2_eui-hrieuvopn-image_20220308T010830227_V02.fits:   0%|          | 0.00/6.56M [00:00<?, ?B/s]"
      ]
     },
     "metadata": {},
     "output_type": "display_data"
    },
    {
     "data": {
      "application/vnd.jupyter.widget-view+json": {
       "model_id": "3a7d648ea97b4ae4bc038615edd6afdd",
       "version_major": 2,
       "version_minor": 0
      },
      "text/plain": [
       "solo_L2_eui-hrieuvopn-image_20220308T010840227_V02.fits:   0%|          | 0.00/6.56M [00:00<?, ?B/s]"
      ]
     },
     "metadata": {},
     "output_type": "display_data"
    },
    {
     "data": {
      "application/vnd.jupyter.widget-view+json": {
       "model_id": "c7e2bd2c6b4944699e50dfd177a604bb",
       "version_major": 2,
       "version_minor": 0
      },
      "text/plain": [
       "solo_L2_eui-hrieuvopn-image_20220308T010845256_V02.fits:   0%|          | 0.00/6.57M [00:00<?, ?B/s]"
      ]
     },
     "metadata": {},
     "output_type": "display_data"
    },
    {
     "data": {
      "application/vnd.jupyter.widget-view+json": {
       "model_id": "12e9780968d549eb961bf5838f8689b8",
       "version_major": 2,
       "version_minor": 0
      },
      "text/plain": [
       "solo_L2_eui-hrieuvopn-image_20220308T010850227_V02.fits:   0%|          | 0.00/6.58M [00:00<?, ?B/s]"
      ]
     },
     "metadata": {},
     "output_type": "display_data"
    },
    {
     "data": {
      "application/vnd.jupyter.widget-view+json": {
       "model_id": "ada86554b406471587a3f6db11094989",
       "version_major": 2,
       "version_minor": 0
      },
      "text/plain": [
       "solo_L2_eui-hrieuvopn-image_20220308T010855240_V02.fits:   0%|          | 0.00/6.55M [00:00<?, ?B/s]"
      ]
     },
     "metadata": {},
     "output_type": "display_data"
    },
    {
     "data": {
      "application/vnd.jupyter.widget-view+json": {
       "model_id": "b328f58fa04746d78de3770b88b07d9e",
       "version_major": 2,
       "version_minor": 0
      },
      "text/plain": [
       "solo_L2_eui-hrieuvopn-image_20220308T010900265_V02.fits:   0%|          | 0.00/6.56M [00:00<?, ?B/s]"
      ]
     },
     "metadata": {},
     "output_type": "display_data"
    },
    {
     "data": {
      "application/vnd.jupyter.widget-view+json": {
       "model_id": "fe4e7f275cdf4397a81fdc4e1fee7b1c",
       "version_major": 2,
       "version_minor": 0
      },
      "text/plain": [
       "solo_L2_eui-hrieuvopn-image_20220308T010905227_V02.fits:   0%|          | 0.00/6.58M [00:00<?, ?B/s]"
      ]
     },
     "metadata": {},
     "output_type": "display_data"
    },
    {
     "data": {
      "application/vnd.jupyter.widget-view+json": {
       "model_id": "eac6c1cccfeb4a5e9061f068c60350f6",
       "version_major": 2,
       "version_minor": 0
      },
      "text/plain": [
       "solo_L2_eui-hrieuvopn-image_20220308T010910227_V02.fits:   0%|          | 0.00/6.57M [00:00<?, ?B/s]"
      ]
     },
     "metadata": {},
     "output_type": "display_data"
    },
    {
     "data": {
      "application/vnd.jupyter.widget-view+json": {
       "model_id": "b908d621174a4f11867559f626aa8545",
       "version_major": 2,
       "version_minor": 0
      },
      "text/plain": [
       "solo_L2_eui-hrieuvopn-image_20220308T010925496_V02.fits:   0%|          | 0.00/6.56M [00:00<?, ?B/s]"
      ]
     },
     "metadata": {},
     "output_type": "display_data"
    },
    {
     "data": {
      "application/vnd.jupyter.widget-view+json": {
       "model_id": "b3dcf7eec1744ba9b6ad98bf5994b1e7",
       "version_major": 2,
       "version_minor": 0
      },
      "text/plain": [
       "solo_L2_eui-hrieuvopn-image_20220308T010920227_V02.fits:   0%|          | 0.00/6.56M [00:00<?, ?B/s]"
      ]
     },
     "metadata": {},
     "output_type": "display_data"
    },
    {
     "data": {
      "application/vnd.jupyter.widget-view+json": {
       "model_id": "c547736adfc5481ea58ddd1ac9591fef",
       "version_major": 2,
       "version_minor": 0
      },
      "text/plain": [
       "solo_L2_eui-hrieuvopn-image_20220308T010915227_V02.fits:   0%|          | 0.00/6.58M [00:00<?, ?B/s]"
      ]
     },
     "metadata": {},
     "output_type": "display_data"
    },
    {
     "data": {
      "application/vnd.jupyter.widget-view+json": {
       "model_id": "ba5ca414d57d45419dfdbb5ff200edb2",
       "version_major": 2,
       "version_minor": 0
      },
      "text/plain": [
       "solo_L2_eui-hrieuvopn-image_20220308T010930362_V02.fits:   0%|          | 0.00/6.57M [00:00<?, ?B/s]"
      ]
     },
     "metadata": {},
     "output_type": "display_data"
    },
    {
     "data": {
      "application/vnd.jupyter.widget-view+json": {
       "model_id": "194351f1af20413eaacf384184ed2dfc",
       "version_major": 2,
       "version_minor": 0
      },
      "text/plain": [
       "solo_L2_eui-hrieuvopn-image_20220308T010940227_V02.fits:   0%|          | 0.00/6.57M [00:00<?, ?B/s]"
      ]
     },
     "metadata": {},
     "output_type": "display_data"
    },
    {
     "data": {
      "application/vnd.jupyter.widget-view+json": {
       "model_id": "0e1f48c3648a4b00926033e45afa62a9",
       "version_major": 2,
       "version_minor": 0
      },
      "text/plain": [
       "solo_L2_eui-hrieuvopn-image_20220308T010935227_V02.fits:   0%|          | 0.00/6.57M [00:00<?, ?B/s]"
      ]
     },
     "metadata": {},
     "output_type": "display_data"
    },
    {
     "data": {
      "application/vnd.jupyter.widget-view+json": {
       "model_id": "e0e1b0364c1c4ba7a6cadd325ac59f84",
       "version_major": 2,
       "version_minor": 0
      },
      "text/plain": [
       "solo_L2_eui-hrieuvopn-image_20220308T010945261_V02.fits:   0%|          | 0.00/6.57M [00:00<?, ?B/s]"
      ]
     },
     "metadata": {},
     "output_type": "display_data"
    },
    {
     "data": {
      "application/vnd.jupyter.widget-view+json": {
       "model_id": "ba94ae30ae694e909a58a54e9811cc30",
       "version_major": 2,
       "version_minor": 0
      },
      "text/plain": [
       "solo_L2_eui-hrieuvopn-image_20220308T010950227_V02.fits:   0%|          | 0.00/6.56M [00:00<?, ?B/s]"
      ]
     },
     "metadata": {},
     "output_type": "display_data"
    },
    {
     "data": {
      "application/vnd.jupyter.widget-view+json": {
       "model_id": "c47935035cef4f48af0ba054322994e9",
       "version_major": 2,
       "version_minor": 0
      },
      "text/plain": [
       "solo_L2_eui-hrieuvopn-image_20220308T010955512_V02.fits:   0%|          | 0.00/6.56M [00:00<?, ?B/s]"
      ]
     },
     "metadata": {},
     "output_type": "display_data"
    },
    {
     "data": {
      "application/vnd.jupyter.widget-view+json": {
       "model_id": "215ef61f280646219f6577a6b130f04d",
       "version_major": 2,
       "version_minor": 0
      },
      "text/plain": [
       "solo_L2_eui-hrieuvopn-image_20220308T011000233_V02.fits:   0%|          | 0.00/6.57M [00:00<?, ?B/s]"
      ]
     },
     "metadata": {},
     "output_type": "display_data"
    },
    {
     "data": {
      "application/vnd.jupyter.widget-view+json": {
       "model_id": "e9c5a1fad3674a0e905c9ffdd19b4423",
       "version_major": 2,
       "version_minor": 0
      },
      "text/plain": [
       "solo_L2_eui-hrieuvopn-image_20220308T011005227_V02.fits:   0%|          | 0.00/6.55M [00:00<?, ?B/s]"
      ]
     },
     "metadata": {},
     "output_type": "display_data"
    },
    {
     "data": {
      "application/vnd.jupyter.widget-view+json": {
       "model_id": "6d5f0b1d14474f418ad916c919484278",
       "version_major": 2,
       "version_minor": 0
      },
      "text/plain": [
       "solo_L2_eui-hrieuvopn-image_20220308T011010226_V02.fits:   0%|          | 0.00/6.59M [00:00<?, ?B/s]"
      ]
     },
     "metadata": {},
     "output_type": "display_data"
    },
    {
     "data": {
      "application/vnd.jupyter.widget-view+json": {
       "model_id": "6a08c04792f143d1bc8206c4f6db8546",
       "version_major": 2,
       "version_minor": 0
      },
      "text/plain": [
       "solo_L2_eui-hrieuvopn-image_20220308T011015227_V02.fits:   0%|          | 0.00/6.56M [00:00<?, ?B/s]"
      ]
     },
     "metadata": {},
     "output_type": "display_data"
    },
    {
     "data": {
      "application/vnd.jupyter.widget-view+json": {
       "model_id": "1fa7895e7e2240ff82ff564808ef1831",
       "version_major": 2,
       "version_minor": 0
      },
      "text/plain": [
       "solo_L2_eui-hrieuvopn-image_20220308T011020227_V02.fits:   0%|          | 0.00/6.55M [00:00<?, ?B/s]"
      ]
     },
     "metadata": {},
     "output_type": "display_data"
    },
    {
     "data": {
      "application/vnd.jupyter.widget-view+json": {
       "model_id": "f484d36ead484bb3a838edb1d109afde",
       "version_major": 2,
       "version_minor": 0
      },
      "text/plain": [
       "solo_L2_eui-hrieuvopn-image_20220308T011030227_V02.fits:   0%|          | 0.00/6.56M [00:00<?, ?B/s]"
      ]
     },
     "metadata": {},
     "output_type": "display_data"
    },
    {
     "data": {
      "application/vnd.jupyter.widget-view+json": {
       "model_id": "7db4dc24df554c07b29d75e1f57179cf",
       "version_major": 2,
       "version_minor": 0
      },
      "text/plain": [
       "solo_L2_eui-hrieuvopn-image_20220308T011035230_V02.fits:   0%|          | 0.00/6.57M [00:00<?, ?B/s]"
      ]
     },
     "metadata": {},
     "output_type": "display_data"
    },
    {
     "data": {
      "application/vnd.jupyter.widget-view+json": {
       "model_id": "60e2fe0621594c35931e236850e0dcc4",
       "version_major": 2,
       "version_minor": 0
      },
      "text/plain": [
       "solo_L2_eui-hrieuvopn-image_20220308T011025227_V02.fits:   0%|          | 0.00/6.56M [00:00<?, ?B/s]"
      ]
     },
     "metadata": {},
     "output_type": "display_data"
    },
    {
     "data": {
      "application/vnd.jupyter.widget-view+json": {
       "model_id": "895814b731d24f64aa99460fb3bd414b",
       "version_major": 2,
       "version_minor": 0
      },
      "text/plain": [
       "solo_L2_eui-hrieuvopn-image_20220308T011040227_V02.fits:   0%|          | 0.00/6.55M [00:00<?, ?B/s]"
      ]
     },
     "metadata": {},
     "output_type": "display_data"
    },
    {
     "data": {
      "application/vnd.jupyter.widget-view+json": {
       "model_id": "a795f48bb065453fb03b3639616a28f2",
       "version_major": 2,
       "version_minor": 0
      },
      "text/plain": [
       "solo_L2_eui-hrieuvopn-image_20220308T011045227_V02.fits:   0%|          | 0.00/6.58M [00:00<?, ?B/s]"
      ]
     },
     "metadata": {},
     "output_type": "display_data"
    },
    {
     "data": {
      "application/vnd.jupyter.widget-view+json": {
       "model_id": "be193265f0584f849424a6d8cbe29db8",
       "version_major": 2,
       "version_minor": 0
      },
      "text/plain": [
       "solo_L2_eui-hrieuvopn-image_20220308T011055227_V02.fits:   0%|          | 0.00/6.57M [00:00<?, ?B/s]"
      ]
     },
     "metadata": {},
     "output_type": "display_data"
    },
    {
     "data": {
      "application/vnd.jupyter.widget-view+json": {
       "model_id": "111f457ae2f34a0f84215fc387c133d8",
       "version_major": 2,
       "version_minor": 0
      },
      "text/plain": [
       "solo_L2_eui-hrieuvopn-image_20220308T011100233_V02.fits:   0%|          | 0.00/6.57M [00:00<?, ?B/s]"
      ]
     },
     "metadata": {},
     "output_type": "display_data"
    },
    {
     "data": {
      "application/vnd.jupyter.widget-view+json": {
       "model_id": "9634673543664b54b629c7b359212818",
       "version_major": 2,
       "version_minor": 0
      },
      "text/plain": [
       "solo_L2_eui-hrieuvopn-image_20220308T011050227_V02.fits:   0%|          | 0.00/6.57M [00:00<?, ?B/s]"
      ]
     },
     "metadata": {},
     "output_type": "display_data"
    },
    {
     "data": {
      "application/vnd.jupyter.widget-view+json": {
       "model_id": "100c59dddb8744d9989e032919a09335",
       "version_major": 2,
       "version_minor": 0
      },
      "text/plain": [
       "solo_L2_eui-hrieuvopn-image_20220308T011105227_V02.fits:   0%|          | 0.00/6.58M [00:00<?, ?B/s]"
      ]
     },
     "metadata": {},
     "output_type": "display_data"
    },
    {
     "data": {
      "application/vnd.jupyter.widget-view+json": {
       "model_id": "2fe9ebc7625645a49baa19999ea783d2",
       "version_major": 2,
       "version_minor": 0
      },
      "text/plain": [
       "solo_L2_eui-hrieuvopn-image_20220308T011110227_V02.fits:   0%|          | 0.00/6.56M [00:00<?, ?B/s]"
      ]
     },
     "metadata": {},
     "output_type": "display_data"
    },
    {
     "data": {
      "application/vnd.jupyter.widget-view+json": {
       "model_id": "0074c919c4f44bf99ebf354cfcdf38d9",
       "version_major": 2,
       "version_minor": 0
      },
      "text/plain": [
       "solo_L2_eui-hrieuvopn-image_20220308T011115227_V02.fits:   0%|          | 0.00/6.56M [00:00<?, ?B/s]"
      ]
     },
     "metadata": {},
     "output_type": "display_data"
    },
    {
     "data": {
      "application/vnd.jupyter.widget-view+json": {
       "model_id": "8240ec01b7c740efbb4098bf88ad6b49",
       "version_major": 2,
       "version_minor": 0
      },
      "text/plain": [
       "solo_L2_eui-hrieuvopn-image_20220308T011120227_V02.fits:   0%|          | 0.00/6.58M [00:00<?, ?B/s]"
      ]
     },
     "metadata": {},
     "output_type": "display_data"
    },
    {
     "data": {
      "application/vnd.jupyter.widget-view+json": {
       "model_id": "2817ccd1dcd54fb1b344b91850dfeceb",
       "version_major": 2,
       "version_minor": 0
      },
      "text/plain": [
       "solo_L2_eui-hrieuvopn-image_20220308T011125227_V02.fits:   0%|          | 0.00/6.58M [00:00<?, ?B/s]"
      ]
     },
     "metadata": {},
     "output_type": "display_data"
    },
    {
     "data": {
      "application/vnd.jupyter.widget-view+json": {
       "model_id": "0050c215f7694cbcbfe19ac9e6002077",
       "version_major": 2,
       "version_minor": 0
      },
      "text/plain": [
       "solo_L2_eui-hrieuvopn-image_20220308T011130227_V02.fits:   0%|          | 0.00/6.56M [00:00<?, ?B/s]"
      ]
     },
     "metadata": {},
     "output_type": "display_data"
    },
    {
     "data": {
      "application/vnd.jupyter.widget-view+json": {
       "model_id": "f364ed719f2d47689b97d3369a6b3b61",
       "version_major": 2,
       "version_minor": 0
      },
      "text/plain": [
       "solo_L2_eui-hrieuvopn-image_20220308T011135227_V02.fits:   0%|          | 0.00/6.57M [00:00<?, ?B/s]"
      ]
     },
     "metadata": {},
     "output_type": "display_data"
    },
    {
     "data": {
      "application/vnd.jupyter.widget-view+json": {
       "model_id": "5f7c03f227584bc3b01573654ac0dc34",
       "version_major": 2,
       "version_minor": 0
      },
      "text/plain": [
       "solo_L2_eui-hrieuvopn-image_20220308T011140227_V02.fits:   0%|          | 0.00/6.56M [00:00<?, ?B/s]"
      ]
     },
     "metadata": {},
     "output_type": "display_data"
    },
    {
     "data": {
      "application/vnd.jupyter.widget-view+json": {
       "model_id": "02461cc1f33247d4ab2c4796f19a50b9",
       "version_major": 2,
       "version_minor": 0
      },
      "text/plain": [
       "solo_L2_eui-hrieuvopn-image_20220308T011145228_V02.fits:   0%|          | 0.00/6.58M [00:00<?, ?B/s]"
      ]
     },
     "metadata": {},
     "output_type": "display_data"
    },
    {
     "data": {
      "application/vnd.jupyter.widget-view+json": {
       "model_id": "d8efe2c47ac84a00895331eea5e6e562",
       "version_major": 2,
       "version_minor": 0
      },
      "text/plain": [
       "solo_L2_eui-hrieuvopn-image_20220308T011150227_V02.fits:   0%|          | 0.00/6.58M [00:00<?, ?B/s]"
      ]
     },
     "metadata": {},
     "output_type": "display_data"
    },
    {
     "data": {
      "application/vnd.jupyter.widget-view+json": {
       "model_id": "7a0da7458b254548abaf068b80a8b215",
       "version_major": 2,
       "version_minor": 0
      },
      "text/plain": [
       "solo_L2_eui-hrieuvopn-image_20220308T011155227_V02.fits:   0%|          | 0.00/6.58M [00:00<?, ?B/s]"
      ]
     },
     "metadata": {},
     "output_type": "display_data"
    },
    {
     "data": {
      "application/vnd.jupyter.widget-view+json": {
       "model_id": "70d3521b26884102a00b4c3c52184708",
       "version_major": 2,
       "version_minor": 0
      },
      "text/plain": [
       "solo_L2_eui-hrieuvopn-image_20220308T011200244_V02.fits:   0%|          | 0.00/6.58M [00:00<?, ?B/s]"
      ]
     },
     "metadata": {},
     "output_type": "display_data"
    },
    {
     "data": {
      "application/vnd.jupyter.widget-view+json": {
       "model_id": "a75fb2e065034650b71b4b1fb4cf2abe",
       "version_major": 2,
       "version_minor": 0
      },
      "text/plain": [
       "solo_L2_eui-hrieuvopn-image_20220308T011205227_V02.fits:   0%|          | 0.00/6.55M [00:00<?, ?B/s]"
      ]
     },
     "metadata": {},
     "output_type": "display_data"
    },
    {
     "data": {
      "application/vnd.jupyter.widget-view+json": {
       "model_id": "36a27f46264b4a508d7eeddfe1f83694",
       "version_major": 2,
       "version_minor": 0
      },
      "text/plain": [
       "solo_L2_eui-hrieuvopn-image_20220308T011210475_V02.fits:   0%|          | 0.00/6.58M [00:00<?, ?B/s]"
      ]
     },
     "metadata": {},
     "output_type": "display_data"
    },
    {
     "data": {
      "application/vnd.jupyter.widget-view+json": {
       "model_id": "5c0dfd702c9c47deb2605672df624703",
       "version_major": 2,
       "version_minor": 0
      },
      "text/plain": [
       "solo_L2_eui-hrieuvopn-image_20220308T011215227_V02.fits:   0%|          | 0.00/6.56M [00:00<?, ?B/s]"
      ]
     },
     "metadata": {},
     "output_type": "display_data"
    },
    {
     "data": {
      "application/vnd.jupyter.widget-view+json": {
       "model_id": "772ebf4d28d9498699abea475ebc7189",
       "version_major": 2,
       "version_minor": 0
      },
      "text/plain": [
       "solo_L2_eui-hrieuvopn-image_20220308T011220258_V02.fits:   0%|          | 0.00/6.57M [00:00<?, ?B/s]"
      ]
     },
     "metadata": {},
     "output_type": "display_data"
    },
    {
     "data": {
      "application/vnd.jupyter.widget-view+json": {
       "model_id": "321af5f993c4420bb240c97644c7695c",
       "version_major": 2,
       "version_minor": 0
      },
      "text/plain": [
       "solo_L2_eui-hrieuvopn-image_20220308T011225228_V02.fits:   0%|          | 0.00/6.57M [00:00<?, ?B/s]"
      ]
     },
     "metadata": {},
     "output_type": "display_data"
    },
    {
     "data": {
      "application/vnd.jupyter.widget-view+json": {
       "model_id": "4a8b8b29232d42d587a03f63b2051845",
       "version_major": 2,
       "version_minor": 0
      },
      "text/plain": [
       "solo_L2_eui-hrieuvopn-image_20220308T011230228_V02.fits:   0%|          | 0.00/6.58M [00:00<?, ?B/s]"
      ]
     },
     "metadata": {},
     "output_type": "display_data"
    },
    {
     "data": {
      "application/vnd.jupyter.widget-view+json": {
       "model_id": "48a43d866f224b1e9c66e71eb8864f02",
       "version_major": 2,
       "version_minor": 0
      },
      "text/plain": [
       "solo_L2_eui-hrieuvopn-image_20220308T011235234_V02.fits:   0%|          | 0.00/6.56M [00:00<?, ?B/s]"
      ]
     },
     "metadata": {},
     "output_type": "display_data"
    },
    {
     "data": {
      "application/vnd.jupyter.widget-view+json": {
       "model_id": "f7ae456fc8c346ceba02b43a0db3405d",
       "version_major": 2,
       "version_minor": 0
      },
      "text/plain": [
       "solo_L2_eui-hrieuvopn-image_20220308T011240227_V02.fits:   0%|          | 0.00/6.57M [00:00<?, ?B/s]"
      ]
     },
     "metadata": {},
     "output_type": "display_data"
    },
    {
     "data": {
      "application/vnd.jupyter.widget-view+json": {
       "model_id": "cd8c224421f94f499a5de071b6c4b157",
       "version_major": 2,
       "version_minor": 0
      },
      "text/plain": [
       "solo_L2_eui-hrieuvopn-image_20220308T011245243_V02.fits:   0%|          | 0.00/6.58M [00:00<?, ?B/s]"
      ]
     },
     "metadata": {},
     "output_type": "display_data"
    },
    {
     "data": {
      "application/vnd.jupyter.widget-view+json": {
       "model_id": "fb9b77bdca544d71baae53d1634d260e",
       "version_major": 2,
       "version_minor": 0
      },
      "text/plain": [
       "solo_L2_eui-hrieuvopn-image_20220308T011250227_V02.fits:   0%|          | 0.00/6.57M [00:00<?, ?B/s]"
      ]
     },
     "metadata": {},
     "output_type": "display_data"
    },
    {
     "data": {
      "application/vnd.jupyter.widget-view+json": {
       "model_id": "95575f072043492b8670c86edcf67e60",
       "version_major": 2,
       "version_minor": 0
      },
      "text/plain": [
       "solo_L2_eui-hrieuvopn-image_20220308T011255227_V02.fits:   0%|          | 0.00/6.57M [00:00<?, ?B/s]"
      ]
     },
     "metadata": {},
     "output_type": "display_data"
    }
   ],
   "source": [
    "eui_files = Fido.fetch(eui_result)\n",
    "\n",
    "eui_seq = sunpy.map.Map(eui_files, sequence=True)"
   ]
  },
  {
   "cell_type": "code",
   "execution_count": 4,
   "id": "3d1b25ab-28cd-4c45-ac8e-a84afa2d9d03",
   "metadata": {},
   "outputs": [],
   "source": [
    "# loading sequence from local device if already saved\n",
    "data_dir_eui = '/Users/ellisernsberger/sunpy/data/eui174_interval1'\n",
    "eui_file_list = sorted(glob.glob(os.path.join(data_dir_eui, 'solo_L2_eui*.fits')))\n",
    "\n",
    "# create map Sequence from local files\n",
    "eui_seq = sunpy.map.Map(eui_file_list, sequence=True)"
   ]
  },
  {
   "cell_type": "code",
   "execution_count": 5,
   "id": "72f768f9-5c60-4663-80c0-6ab42ab09a04",
   "metadata": {},
   "outputs": [
    {
     "name": "stderr",
     "output_type": "stream",
     "text": [
      "2025-06-20 18:24:23 - matplotlib.animation - WARNING: MovieWriter ffmpeg unavailable; using Pillow instead.\n",
      "2025-06-20 18:24:23 - matplotlib.animation - INFO: Animation.save using <class 'matplotlib.animation.PillowWriter'>\n"
     ]
    }
   ],
   "source": [
    "for each_map in eui_seq:\n",
    "\n",
    "    each_map.plot_settings['norm'] = ImageNormalize(vmin=150, vmax=2000, stretch=SqrtStretch())\n",
    "\n",
    "plt.figure()\n",
    "\n",
    "ani = eui_seq.plot()\n",
    "ani.save('gifs/eui_movie_004300_to_011300.gif', fps=20)\n",
    "\n",
    "plt.close()"
   ]
  },
  {
   "cell_type": "markdown",
   "id": "a870e20a-63cc-466f-91f2-646d31aa58d0",
   "metadata": {},
   "source": [
    "![SegmentLocal](gifs/eui_movie_004300_to_011300.gif \"EUI Full FOV\")"
   ]
  },
  {
   "cell_type": "markdown",
   "id": "65286ea3-84ca-4b92-8590-bc18c5255f07",
   "metadata": {},
   "source": [
    "### Get IRIS data"
   ]
  },
  {
   "cell_type": "code",
   "execution_count": 34,
   "id": "231c7db5-b077-442e-81b5-5fb0dfde0587",
   "metadata": {},
   "outputs": [
    {
     "data": {
      "text/latex": [
       "$0.48833816 \\; \\mathrm{AU}$"
      ],
      "text/plain": [
       "<Distance 0.48833816 AU>"
      ]
     },
     "execution_count": 34,
     "metadata": {},
     "output_type": "execute_result"
    }
   ],
   "source": [
    "eui_seq[0].dsun.to(u.AU) # distance for reference"
   ]
  },
  {
   "cell_type": "code",
   "execution_count": 35,
   "id": "9a95fb6f-9351-4640-bfaf-301e8dc20666",
   "metadata": {},
   "outputs": [
    {
     "data": {
      "text/latex": [
       "$4.1926516 \\; \\mathrm{min}$"
      ],
      "text/plain": [
       "<Quantity 4.1926516 min>"
      ]
     },
     "execution_count": 35,
     "metadata": {},
     "output_type": "execute_result"
    }
   ],
   "source": [
    "time_delay = (eui_seq[0].meta['EAR_TDEL']*u.s).to(u.min) # account for time when retrieving other datasets\n",
    "time_delay"
   ]
  },
  {
   "cell_type": "code",
   "execution_count": 36,
   "id": "c1814e7e-006d-46f9-9075-be153a998dd5",
   "metadata": {},
   "outputs": [
    {
     "name": "stdout",
     "output_type": "stream",
     "text": [
      "Results from 0 Providers:\n",
      "\n",
      "\n"
     ]
    }
   ],
   "source": [
    "start_time_iris = astropy.time.Time(start_time_eui, format='iso') + time_delay\n",
    "end_time_iris = astropy.time.Time(end_time_eui, format='iso') + time_delay\n",
    "\n",
    "time = a.Time(start_time_iris, end_time_iris)\n",
    "\n",
    "instrument = a.Instrument('IRIS')\n",
    "wavelength = a.Wavelength(1400*u.angstrom) # SI IV SJI\n",
    "\n",
    "iris_results = Fido.search(instrument & time & wavelength)\n",
    "print(iris_results)"
   ]
  },
  {
   "cell_type": "code",
   "execution_count": null,
   "id": "5331a534-5940-4d59-8344-c95af93232e4",
   "metadata": {},
   "outputs": [],
   "source": []
  }
 ],
 "metadata": {
  "kernelspec": {
   "display_name": "Python 3 (ipykernel)",
   "language": "python",
   "name": "python3"
  },
  "language_info": {
   "codemirror_mode": {
    "name": "ipython",
    "version": 3
   },
   "file_extension": ".py",
   "mimetype": "text/x-python",
   "name": "python",
   "nbconvert_exporter": "python",
   "pygments_lexer": "ipython3",
   "version": "3.10.18"
  }
 },
 "nbformat": 4,
 "nbformat_minor": 5
}
