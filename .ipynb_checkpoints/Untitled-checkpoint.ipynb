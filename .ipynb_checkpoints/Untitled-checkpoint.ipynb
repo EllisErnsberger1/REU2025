{
 "cells": [
  {
   "cell_type": "markdown",
   "id": "db220659-d488-431d-91d9-825f6319612a",
   "metadata": {},
   "source": [
    "# Test Push"
   ]
  },
  {
   "cell_type": "code",
   "execution_count": null,
   "id": "fe948472-4b42-4606-8d79-360f118f869d",
   "metadata": {},
   "outputs": [],
   "source": []
  }
 ],
 "metadata": {
  "kernelspec": {
   "display_name": "Python 3 (ipykernel)",
   "language": "python",
   "name": "python3"
  },
  "language_info": {
   "codemirror_mode": {
    "name": "ipython",
    "version": 3
   },
   "file_extension": ".py",
   "mimetype": "text/x-python",
   "name": "python",
   "nbconvert_exporter": "python",
   "pygments_lexer": "ipython3",
   "version": "3.10.18"
  }
 },
 "nbformat": 4,
 "nbformat_minor": 5
}
